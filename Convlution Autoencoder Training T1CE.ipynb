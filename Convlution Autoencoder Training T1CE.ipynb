{
 "cells": [
  {
   "cell_type": "code",
   "execution_count": 1,
   "metadata": {},
   "outputs": [],
   "source": [
    "N_EPOCHS = 40\n",
    "batch_size = 64\n",
    "scan_type = 'T1CE'"
   ]
  },
  {
   "cell_type": "markdown",
   "metadata": {},
   "source": [
    "## Setup"
   ]
  },
  {
   "cell_type": "code",
   "execution_count": 2,
   "metadata": {},
   "outputs": [],
   "source": [
    "import os, random, time\n",
    "import numpy as np\n",
    "import pandas as pd\n",
    "import nibabel as nib\n",
    "import cv2\n",
    "import matplotlib.pyplot as plt\n",
    "\n",
    "# Pytorch functions\n",
    "import torch\n",
    "# Neural network layers\n",
    "import torch.nn as nn\n",
    "import torch.nn.functional as F\n",
    "# Optimizer\n",
    "import torch.optim as optim\n",
    "from torch.utils.data import Dataset, DataLoader, random_split, Subset\n",
    "# Torchvision library\n",
    "from torchvision import transforms\n",
    "\n",
    "from sklearn.model_selection import train_test_split\n",
    "from sklearn.preprocessing import MinMaxScaler\n",
    "# For results\n",
    "from sklearn.metrics import confusion_matrix\n",
    "from sklearn.metrics import classification_report\n",
    "\n",
    "from torchsummary import summary\n",
    "\n",
    "from utilities import *"
   ]
  },
  {
   "cell_type": "code",
   "execution_count": 3,
   "metadata": {},
   "outputs": [
    {
     "name": "stdout",
     "output_type": "stream",
     "text": [
      "mps\n"
     ]
    }
   ],
   "source": [
    "# Device configuration\n",
    "if torch.cuda.is_available():\n",
    "    device = torch.device('cuda')\n",
    "elif torch.backends.mps.is_available():\n",
    "   device = torch.device('mps')\n",
    "else:\n",
    "    device = torch.device('cpu')\n",
    "\n",
    "# Assuming that we are on a CUDA machine, this should print a CUDA device:\n",
    "print(device)"
   ]
  },
  {
   "cell_type": "code",
   "execution_count": 4,
   "metadata": {},
   "outputs": [],
   "source": [
    "def set_seed(seed, use_cuda = True, use_mps = False):\n",
    "    \"\"\"\n",
    "    Set SEED for PyTorch reproducibility\n",
    "    \"\"\"\n",
    "    random.seed(seed)\n",
    "    np.random.seed(seed)\n",
    "    torch.manual_seed(seed)\n",
    "    if use_cuda:\n",
    "        torch.cuda.manual_seed_all(seed)\n",
    "        torch.cuda.manual_seed(seed)\n",
    "        torch.backends.cudnn.deterministic = True\n",
    "        torch.backends.cudnn.benchmark = False\n",
    "    if use_mps:\n",
    "        torch.mps.manual_seed(seed)\n",
    "\n",
    "SEED = 44\n",
    "\n",
    "USE_SEED = True\n",
    "\n",
    "if USE_SEED:\n",
    "    set_seed(SEED, torch.cuda.is_available(), torch.backends.mps.is_available())"
   ]
  },
  {
   "cell_type": "markdown",
   "metadata": {},
   "source": [
    "## Define Custom Dataset"
   ]
  },
  {
   "cell_type": "code",
   "execution_count": 5,
   "metadata": {},
   "outputs": [],
   "source": [
    "class BraTSDataset(Dataset):\n",
    "    def __init__(self, image_path = r'./BraTS/BraTS2021_Training_Data_2D', transform=None):\n",
    "        'Initialisation'\n",
    "        self.image_path = image_path\n",
    "        self.folders_name = [folder for folder in os.listdir(self.image_path) if folder != '.DS_Store']\n",
    "        self.transform = transform\n",
    "\n",
    "    def __len__(self):\n",
    "        'Denotes the total number of samples'\n",
    "        return len(self.folders_name) * 155\n",
    "\n",
    "    def __getitem__(self, index):\n",
    "        'Generates one sample of data'\n",
    "\n",
    "        # Determine the image index and the RGB layer\n",
    "        image_idx = index // 155\n",
    "        layer_idx = index % 155\n",
    "\n",
    "        # Select sample\n",
    "        file_name = self.folders_name[image_idx]\n",
    "        \n",
    "        path_img = os.path.join(self.image_path, file_name, scan_type.lower(), file_name + '_' + scan_type.lower() + '_' + str(layer_idx+1) + '.npy')\n",
    "        image = np.load(path_img).astype(np.float32)\n",
    "\n",
    "        path_label = os.path.join(self.image_path, file_name, 'seg', file_name + '_seg_' + str(layer_idx+1) + '.npy')\n",
    "        label = np.load(path_label)\n",
    "        \n",
    "        if self.transform:\n",
    "            image, label = self.transform([image, label])\n",
    "        return image, label"
   ]
  },
  {
   "cell_type": "code",
   "execution_count": 6,
   "metadata": {},
   "outputs": [],
   "source": [
    "class BinariseLabel(object):\n",
    "    def __call__(self, sample):\n",
    "        image, label = sample\n",
    "        new_label = np.sign(label)\n",
    "        return image, new_label\n",
    "\n",
    "class ToTensor(object):\n",
    "    \"\"\"Convert ndarrays in sample to Tensors.\"\"\"\n",
    "    def __call__(self, sample):\n",
    "        image, label = sample\n",
    "\n",
    "        # numpy image: H x W x C\n",
    "        # torch image: C x H x W\n",
    "        # image = image.transpose((2, 0, 1))\n",
    "        return torch.from_numpy(image), torch.from_numpy(label)"
   ]
  },
  {
   "cell_type": "code",
   "execution_count": 7,
   "metadata": {},
   "outputs": [],
   "source": [
    "dataset = BraTSDataset(image_path = r'./BraTS/BraTS2021_Training_Data_2D',\n",
    "                        transform=transforms.Compose([\n",
    "                            BinariseLabel(),\n",
    "                            ToTensor()\n",
    "                        ]))"
   ]
  },
  {
   "cell_type": "markdown",
   "metadata": {},
   "source": [
    "## Train Test Split"
   ]
  },
  {
   "cell_type": "code",
   "execution_count": 8,
   "metadata": {},
   "outputs": [],
   "source": [
    "dataset_size = int(len(dataset)/155)\n",
    "dataset_indices = list(range(dataset_size))\n",
    "\n",
    "train_indices, test_indices = train_test_split(dataset_indices, test_size=0.1, random_state=SEED)\n",
    "train_indices, val_indices = train_test_split(train_indices, test_size=0.22, random_state=SEED)\n",
    "\n",
    "tmp_list = [[],[],[]]\n",
    "for i, ind_list in enumerate([train_indices, val_indices, test_indices]):\n",
    "    for ind in ind_list:\n",
    "        for j in range(155):\n",
    "            tmp_list[i].append(ind*155 + j)\n",
    "train_indices, val_indices, test_indices = tmp_list\n",
    "\n",
    "train_subset = Subset(dataset, train_indices)\n",
    "val_subset = Subset(dataset, val_indices)\n",
    "test_subset = Subset(dataset, test_indices)\n",
    "\n",
    "# Create the subset DataLoader\n",
    "train_dataloader = DataLoader(train_subset, batch_size=batch_size, shuffle=True)\n",
    "val_dataloader = DataLoader(val_subset, batch_size=batch_size, shuffle=False)\n",
    "test_dataloader = DataLoader(test_subset, batch_size=batch_size, shuffle=False)\n",
    "# multiprocessing_context=\"forkserver\", persistent_workers=True, num_workers = 4"
   ]
  },
  {
   "cell_type": "markdown",
   "metadata": {},
   "source": [
    "## Define Convlution Autoencoder Structure"
   ]
  },
  {
   "cell_type": "code",
   "execution_count": 9,
   "metadata": {},
   "outputs": [],
   "source": [
    "class ConvAutoencoder(nn.Module):\n",
    "  def __init__(self):\n",
    "    super().__init__()\n",
    "\n",
    "    self.features = nn.Sequential(\n",
    "      ## encoder layers ##\n",
    "      # conv layer (depth from 1 --> 4), 3x3 kernels\n",
    "      # Input 64 x 64\n",
    "      nn.Conv2d(in_channels=1, out_channels=4, kernel_size=3, padding = 'same'), # 64 x 64\n",
    "      nn.ReLU(),\n",
    "      # pooling layer to reduce x-y dims by two; kernel and stride of 2\n",
    "      nn.MaxPool2d(2), ## 32 x 32\n",
    "      # conv layer (depth from 4 --> 8), 4x4 kernels\n",
    "      nn.Conv2d(in_channels=4, out_channels=8, kernel_size=3, padding = 'same'), # 32 x 32\n",
    "      nn.ReLU(),\n",
    "      nn.MaxPool2d(2), # 16 x 16\n",
    "      # conv layer (depth from 8 --> 12), 5x5 kernels\n",
    "      nn.Conv2d(in_channels=8, out_channels=12, kernel_size=3, padding = 'same'), # ( 12 x ) 16 x 16\n",
    "      nn.ReLU(),\n",
    "      \n",
    "      ## decoder layers ##\n",
    "      # add transpose conv layers, with relu activation function\n",
    "      nn.ConvTranspose2d(12, 6, kernel_size = 2, stride=2), # 32 x 32\n",
    "      nn.ReLU(),\n",
    "      nn.ConvTranspose2d(6, 1, kernel_size = 2, stride=2), # 64 x 64\n",
    "      # output layer (with sigmoid for scaling from 0 to 1)\n",
    "      # nn.Sigmoid()\n",
    "    )\n",
    "    \n",
    "  def forward(self, x):\n",
    "    x = x.view(int(np.prod(x.shape)/(64**2)), 1, 64, 64)\n",
    "    x = self.features(x)\n",
    "    # x = x.view(x.shape[0], -1)\n",
    "    # x = torch.flatten(x, start_dim=1)\n",
    "    return x"
   ]
  },
  {
   "cell_type": "code",
   "execution_count": 10,
   "metadata": {},
   "outputs": [
    {
     "name": "stdout",
     "output_type": "stream",
     "text": [
      "The model has 1,531 trainable parameters.\n"
     ]
    }
   ],
   "source": [
    "model = ConvAutoencoder().to(device)\n",
    "\n",
    "print(f\"The model has {count_parameters(model):,} trainable parameters.\")"
   ]
  },
  {
   "cell_type": "markdown",
   "metadata": {},
   "source": [
    "## Loss function and Optimisation Methods"
   ]
  },
  {
   "cell_type": "code",
   "execution_count": 11,
   "metadata": {},
   "outputs": [],
   "source": [
    "# Loss\n",
    "# criterion = nn.CrossEntropyLoss() # Softmax + CrossEntropy\n",
    "# criterion = nn.BCELoss()\n",
    "criterion = torch.nn.BCEWithLogitsLoss()\n",
    "criterion = criterion.to(device)\n",
    "\n",
    "# Optim\n",
    "optimizer = optim.Adam(model.parameters(), lr=1e-3, weight_decay=1e-5)"
   ]
  },
  {
   "cell_type": "markdown",
   "metadata": {},
   "source": [
    "## Model Training"
   ]
  },
  {
   "cell_type": "code",
   "execution_count": 12,
   "metadata": {},
   "outputs": [
    {
     "name": "stdout",
     "output_type": "stream",
     "text": [
      "100.0 % loaded in this epoch for evaluation.\n",
      "Epoch: 1/40 -- Epoch Time: 159.41 s\n",
      "---------------------------------\n",
      "Train -- Loss: 0.717, Acc: 30.52%\n",
      "Val -- Loss: 0.717, Acc: 30.56%\n",
      "100.0 % loaded in this epoch for evaluation.\n",
      "Epoch: 2/40 -- Epoch Time: 159.27 s\n",
      "---------------------------------\n",
      "Train -- Loss: 0.717, Acc: 30.51%\n",
      "Val -- Loss: 0.717, Acc: 30.43%\n",
      "100.0 % loaded in this epoch for evaluation.\n",
      "Epoch: 3/40 -- Epoch Time: 161.84 s\n",
      "---------------------------------\n",
      "Train -- Loss: 0.717, Acc: 30.27%\n",
      "Val -- Loss: 0.717, Acc: 30.05%\n",
      "100.0 % loaded in this epoch for evaluation.\n",
      "Epoch: 4/40 -- Epoch Time: 153.08 s\n",
      "---------------------------------\n",
      "Train -- Loss: 0.717, Acc: 29.67%\n",
      "Val -- Loss: 0.717, Acc: 29.19%\n",
      "100.0 % loaded in this epoch for evaluation.\n",
      "Epoch: 5/40 -- Epoch Time: 155.95 s\n",
      "---------------------------------\n",
      "Train -- Loss: 0.717, Acc: 28.34%\n",
      "Val -- Loss: 0.717, Acc: 27.21%\n",
      "100.0 % loaded in this epoch for evaluation.\n",
      "Epoch: 6/40 -- Epoch Time: 152.78 s\n",
      "---------------------------------\n",
      "Train -- Loss: 0.717, Acc: 25.42%\n",
      "Val -- Loss: 0.717, Acc: 23.58%\n",
      "100.0 % loaded in this epoch for evaluation.\n",
      "Epoch: 7/40 -- Epoch Time: 163.13 s\n",
      "---------------------------------\n",
      "Train -- Loss: 0.717, Acc: 22.77%\n",
      "Val -- Loss: 0.717, Acc: 23.38%\n",
      "100.0 % loaded in this epoch for evaluation.\n",
      "Epoch: 8/40 -- Epoch Time: 159.01 s\n",
      "---------------------------------\n",
      "Train -- Loss: 0.718, Acc: 23.91%\n",
      "Val -- Loss: 0.718, Acc: 24.70%\n",
      "100.0 % loaded in this epoch for evaluation.\n",
      "Epoch: 9/40 -- Epoch Time: 158.71 s\n",
      "---------------------------------\n",
      "Train -- Loss: 0.718, Acc: 25.07%\n",
      "Val -- Loss: 0.719, Acc: 24.09%\n",
      "100.0 % loaded in this epoch for evaluation.\n",
      "Epoch: 10/40 -- Epoch Time: 158.33 s\n",
      "---------------------------------\n",
      "Train -- Loss: 0.719, Acc: 10.85%\n",
      "Val -- Loss: 0.719, Acc: 2.78%\n",
      "100.0 % loaded in this epoch for evaluation.\n",
      "Epoch: 11/40 -- Epoch Time: 161.66 s\n",
      "---------------------------------\n",
      "Train -- Loss: 0.719, Acc: 2.67%\n",
      "Val -- Loss: 0.719, Acc: 2.78%\n",
      "100.0 % loaded in this epoch for evaluation.\n",
      "Epoch: 12/40 -- Epoch Time: 157.69 s\n",
      "---------------------------------\n",
      "Train -- Loss: 0.718, Acc: 2.67%\n",
      "Val -- Loss: 0.717, Acc: 2.78%\n",
      "100.0 % loaded in this epoch for evaluation.\n",
      "Epoch: 13/40 -- Epoch Time: 155.06 s\n",
      "---------------------------------\n",
      "Train -- Loss: 0.716, Acc: 2.67%\n",
      "Val -- Loss: 0.714, Acc: 2.78%\n",
      "100.0 % loaded in this epoch for evaluation.\n",
      "Epoch: 14/40 -- Epoch Time: 158.03 s\n",
      "---------------------------------\n",
      "Train -- Loss: 0.712, Acc: 2.67%\n",
      "Val -- Loss: 0.711, Acc: 2.78%\n",
      "100.0 % loaded in this epoch for evaluation.\n",
      "Epoch: 15/40 -- Epoch Time: 155.22 s\n",
      "---------------------------------\n",
      "Train -- Loss: 0.709, Acc: 2.67%\n",
      "Val -- Loss: 0.708, Acc: 2.78%\n",
      "100.0 % loaded in this epoch for evaluation.\n",
      "Epoch: 16/40 -- Epoch Time: 154.99 s\n",
      "---------------------------------\n",
      "Train -- Loss: 0.705, Acc: 2.67%\n",
      "Val -- Loss: 0.702, Acc: 2.78%\n",
      "100.0 % loaded in this epoch for evaluation.\n",
      "Epoch: 17/40 -- Epoch Time: 157.15 s\n",
      "---------------------------------\n",
      "Train -- Loss: 0.698, Acc: 2.67%\n",
      "Val -- Loss: 0.695, Acc: 2.78%\n",
      "100.0 % loaded in this epoch for evaluation.\n",
      "Epoch: 18/40 -- Epoch Time: 155.51 s\n",
      "---------------------------------\n",
      "Train -- Loss: 0.694, Acc: 2.67%\n",
      "Val -- Loss: 0.693, Acc: 2.78%\n",
      "100.0 % loaded in this epoch for evaluation.\n",
      "Epoch: 19/40 -- Epoch Time: 155.37 s\n",
      "---------------------------------\n",
      "Train -- Loss: 0.693, Acc: 2.67%\n",
      "Val -- Loss: 0.693, Acc: 2.78%\n",
      "100.0 % loaded in this epoch for evaluation.\n",
      "Epoch: 20/40 -- Epoch Time: 155.47 s\n",
      "---------------------------------\n",
      "Train -- Loss: 0.693, Acc: 2.67%\n",
      "Val -- Loss: 0.693, Acc: 2.78%\n",
      "100.0 % loaded in this epoch for evaluation.\n",
      "Epoch: 21/40 -- Epoch Time: 157.39 s\n",
      "---------------------------------\n",
      "Train -- Loss: 0.693, Acc: 88.60%\n",
      "Val -- Loss: 0.693, Acc: 97.22%\n",
      "100.0 % loaded in this epoch for evaluation.\n",
      "Epoch: 22/40 -- Epoch Time: 157.24 s\n",
      "---------------------------------\n",
      "Train -- Loss: 0.693, Acc: 97.33%\n",
      "Val -- Loss: 0.693, Acc: 97.22%\n",
      "100.0 % loaded in this epoch for evaluation.\n",
      "Epoch: 23/40 -- Epoch Time: 155.23 s\n",
      "---------------------------------\n",
      "Train -- Loss: 0.693, Acc: 97.33%\n",
      "Val -- Loss: 0.693, Acc: 97.22%\n",
      "100.0 % loaded in this epoch for evaluation.\n",
      "Epoch: 24/40 -- Epoch Time: 155.75 s\n",
      "---------------------------------\n",
      "Train -- Loss: 0.693, Acc: 97.33%\n",
      "Val -- Loss: 0.693, Acc: 97.22%\n",
      "100.0 % loaded in this epoch for evaluation.\n",
      "Epoch: 25/40 -- Epoch Time: 154.57 s\n",
      "---------------------------------\n",
      "Train -- Loss: 0.693, Acc: 97.33%\n",
      "Val -- Loss: 0.693, Acc: 97.22%\n",
      "100.0 % loaded in this epoch for evaluation.\n",
      "Epoch: 26/40 -- Epoch Time: 156.16 s\n",
      "---------------------------------\n",
      "Train -- Loss: 0.693, Acc: 97.33%\n",
      "Val -- Loss: 0.693, Acc: 97.22%\n",
      "100.0 % loaded in this epoch for evaluation.\n",
      "Epoch: 27/40 -- Epoch Time: 154.33 s\n",
      "---------------------------------\n",
      "Train -- Loss: 0.693, Acc: 97.33%\n",
      "Val -- Loss: 0.693, Acc: 97.22%\n",
      "100.0 % loaded in this epoch for evaluation.\n",
      "Epoch: 28/40 -- Epoch Time: 156.19 s\n",
      "---------------------------------\n",
      "Train -- Loss: 0.693, Acc: 97.33%\n",
      "Val -- Loss: 0.693, Acc: 97.22%\n",
      "100.0 % loaded in this epoch for evaluation.\n",
      "Epoch: 29/40 -- Epoch Time: 155.42 s\n",
      "---------------------------------\n",
      "Train -- Loss: 0.693, Acc: 97.33%\n",
      "Val -- Loss: 0.693, Acc: 97.22%\n",
      "100.0 % loaded in this epoch for evaluation.\n",
      "Epoch: 30/40 -- Epoch Time: 155.00 s\n",
      "---------------------------------\n",
      "Train -- Loss: 0.693, Acc: 97.33%\n",
      "Val -- Loss: 0.693, Acc: 97.22%\n",
      "100.0 % loaded in this epoch for evaluation.\n",
      "Epoch: 31/40 -- Epoch Time: 155.80 s\n",
      "---------------------------------\n",
      "Train -- Loss: 0.693, Acc: 97.33%\n",
      "Val -- Loss: 0.693, Acc: 97.22%\n",
      "100.0 % loaded in this epoch for evaluation.\n",
      "Epoch: 32/40 -- Epoch Time: 157.01 s\n",
      "---------------------------------\n",
      "Train -- Loss: 0.693, Acc: 97.33%\n",
      "Val -- Loss: 0.693, Acc: 97.22%\n",
      "100.0 % loaded in this epoch for evaluation.\n",
      "Epoch: 33/40 -- Epoch Time: 155.92 s\n",
      "---------------------------------\n",
      "Train -- Loss: 0.693, Acc: 97.33%\n",
      "Val -- Loss: 0.693, Acc: 97.22%\n",
      "100.0 % loaded in this epoch for evaluation.\n",
      "Epoch: 34/40 -- Epoch Time: 162.38 s\n",
      "---------------------------------\n",
      "Train -- Loss: 0.693, Acc: 97.33%\n",
      "Val -- Loss: 0.693, Acc: 97.22%\n",
      "100.0 % loaded in this epoch for evaluation.\n",
      "Epoch: 35/40 -- Epoch Time: 155.00 s\n",
      "---------------------------------\n",
      "Train -- Loss: 0.693, Acc: 97.33%\n",
      "Val -- Loss: 0.693, Acc: 97.22%\n",
      "100.0 % loaded in this epoch for evaluation.\n",
      "Epoch: 36/40 -- Epoch Time: 155.69 s\n",
      "---------------------------------\n",
      "Train -- Loss: 0.693, Acc: 97.33%\n",
      "Val -- Loss: 0.693, Acc: 97.22%\n",
      "100.0 % loaded in this epoch for evaluation.\n",
      "Epoch: 37/40 -- Epoch Time: 156.95 s\n",
      "---------------------------------\n",
      "Train -- Loss: 0.693, Acc: 97.33%\n",
      "Val -- Loss: 0.693, Acc: 97.22%\n",
      "100.0 % loaded in this epoch for evaluation.\n",
      "Epoch: 38/40 -- Epoch Time: 155.61 s\n",
      "---------------------------------\n",
      "Train -- Loss: 0.693, Acc: 97.33%\n",
      "Val -- Loss: 0.693, Acc: 97.22%\n",
      "100.0 % loaded in this epoch for evaluation.\n",
      "Epoch: 39/40 -- Epoch Time: 155.79 s\n",
      "---------------------------------\n",
      "Train -- Loss: 0.693, Acc: 97.33%\n",
      "Val -- Loss: 0.693, Acc: 97.22%\n",
      "100.0 % loaded in this epoch for evaluation.\n",
      "Epoch: 40/40 -- Epoch Time: 156.74 s\n",
      "---------------------------------\n",
      "Train -- Loss: 0.693, Acc: 97.33%\n",
      "Val -- Loss: 0.693, Acc: 97.22%\n"
     ]
    }
   ],
   "source": [
    "train_losses, train_accs, valid_losses, valid_accs,\\\n",
    "    train_losses_batch, train_accs_batch, valid_losses_batch, valid_accs_batch = model_training(N_EPOCHS,\n",
    "                                                                                                    model,\n",
    "                                                                                                    train_dataloader,\n",
    "                                                                                                    val_dataloader,\n",
    "                                                                                                    optimizer,\n",
    "                                                                                                    criterion,\n",
    "                                                                                                    device,\n",
    "                                                                                                    './models/CA_' + scan_type + '.pt')"
   ]
  },
  {
   "cell_type": "markdown",
   "metadata": {},
   "source": [
    "## Save train, val and test indices, losses and accuracies"
   ]
  },
  {
   "cell_type": "code",
   "execution_count": 34,
   "metadata": {},
   "outputs": [],
   "source": [
    "os.makedirs('./results', exist_ok=True)\n",
    "\n",
    "pd.DataFrame({\n",
    "    'Train Loss': train_losses,\n",
    "    'Train Acc': train_accs,\n",
    "    'Valid Loss': valid_losses,\n",
    "    'Valid Acc': valid_accs\n",
    "}).to_csv(f'./results/CA_{scan_type}.csv', index = False)\n"
   ]
  },
  {
   "cell_type": "code",
   "execution_count": 61,
   "metadata": {},
   "outputs": [],
   "source": [
    "stacked_df = pd.concat([pd.DataFrame(pd.DataFrame(train_losses_batch).values.flatten(), columns=['Train Loss']),\n",
    "                        pd.DataFrame(pd.DataFrame(train_accs_batch).values.flatten(), columns=['Train Acc']),\n",
    "                        pd.DataFrame(pd.DataFrame(valid_losses_batch).values.flatten(), columns=['Valid Loss']),\n",
    "                        pd.DataFrame(pd.DataFrame(valid_accs_batch).values.flatten(), columns=['Valid Acc'])], axis=1)\n",
    "pd.DataFrame(np.vstack(stacked_df)).to_csv(f'./results/CA_{scan_type}_batch.csv', index = False)"
   ]
  },
  {
   "cell_type": "markdown",
   "metadata": {},
   "source": [
    "# Predict"
   ]
  },
  {
   "cell_type": "code",
   "execution_count": 37,
   "metadata": {},
   "outputs": [
    {
     "data": {
      "text/plain": [
       "ConvAutoencoder(\n",
       "  (features): Sequential(\n",
       "    (0): Conv2d(1, 4, kernel_size=(3, 3), stride=(1, 1), padding=same)\n",
       "    (1): ReLU()\n",
       "    (2): MaxPool2d(kernel_size=2, stride=2, padding=0, dilation=1, ceil_mode=False)\n",
       "    (3): Conv2d(4, 8, kernel_size=(3, 3), stride=(1, 1), padding=same)\n",
       "    (4): ReLU()\n",
       "    (5): MaxPool2d(kernel_size=2, stride=2, padding=0, dilation=1, ceil_mode=False)\n",
       "    (6): Conv2d(8, 12, kernel_size=(3, 3), stride=(1, 1), padding=same)\n",
       "    (7): ReLU()\n",
       "    (8): ConvTranspose2d(12, 6, kernel_size=(2, 2), stride=(2, 2))\n",
       "    (9): ReLU()\n",
       "    (10): ConvTranspose2d(6, 1, kernel_size=(2, 2), stride=(2, 2))\n",
       "  )\n",
       ")"
      ]
     },
     "execution_count": 37,
     "metadata": {},
     "output_type": "execute_result"
    }
   ],
   "source": [
    "model.load_state_dict(torch.load(f'./models/CA_{scan_type}.pt'))\n",
    "model.to(device)"
   ]
  },
  {
   "cell_type": "code",
   "execution_count": 38,
   "metadata": {},
   "outputs": [],
   "source": [
    "pred, label = predict(model, test_dataloader, device)"
   ]
  },
  {
   "cell_type": "code",
   "execution_count": 63,
   "metadata": {},
   "outputs": [
    {
     "name": "stdout",
     "output_type": "stream",
     "text": [
      "torch.Size([19530, 64, 64]) torch.Size([19530, 64, 64])\n"
     ]
    }
   ],
   "source": [
    "print(label.shape, pred.shape)"
   ]
  }
 ],
 "metadata": {
  "kernelspec": {
   "display_name": "Python 3",
   "language": "python",
   "name": "python3"
  },
  "language_info": {
   "codemirror_mode": {
    "name": "ipython",
    "version": 3
   },
   "file_extension": ".py",
   "mimetype": "text/x-python",
   "name": "python",
   "nbconvert_exporter": "python",
   "pygments_lexer": "ipython3",
   "version": "3.11.6"
  }
 },
 "nbformat": 4,
 "nbformat_minor": 2
}
