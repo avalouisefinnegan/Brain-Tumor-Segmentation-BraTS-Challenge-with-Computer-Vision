{
 "cells": [
  {
   "cell_type": "code",
   "execution_count": 1,
   "metadata": {},
   "outputs": [],
   "source": [
    "import os, glob, numpy as np, nibabel as nib, matplotlib.pylab as plt\n",
    "from sklearn.model_selection import train_test_split"
   ]
  },
  {
   "cell_type": "code",
   "execution_count": 2,
   "metadata": {},
   "outputs": [],
   "source": [
    "master_path = r'./BraTS/'\n",
    "folders = [folder for folder in os.listdir(os.path.join(master_path, 'BraTS2021_Training_Data')) if folder != '.DS_Store']"
   ]
  },
  {
   "cell_type": "code",
   "execution_count": null,
   "metadata": {},
   "outputs": [],
   "source": [
    "if not os.path.exists(os.path.join(master_path, 'BraTS2021_Training_Data_2D')): # BraTS2021_Training_Data\n",
    "    os.makedirs(os.path.join(master_path, 'BraTS2021_Training_Data_2D'))\n",
    "    for img_type in ['flair', 'seg', 't1', 't1ce', 't2']:\n",
    "        os.makedirs(os.path.join(master_path, 'BraTS2021_Training_Data_2D', img_type))\n",
    "\n",
    "def convert(folders, org_folder = 'BraTS2021_Training_Data'):\n",
    "    for counter, folder in enumerate(folders):\n",
    "        for img_type in ['flair', 'seg', 't1', 't1ce', 't2']:\n",
    "            img_path = os.path.join(master_path, org_folder, folder, folder + '_' + img_type + '.nii.gz')\n",
    "            img = nib.load(img_path).get_fdata()\n",
    "            for i in range(img.shape[-1]):\n",
    "                img_slice = img[:,:,i]\n",
    "                plt.imsave(os.path.join(master_path, 'BraTS2021_Training_Data_2D', img_type, folder + img_type + '_' + str(i+1) + '.png'), img_slice)\n",
    "        print(f'Finished {counter+1}/{len(folders)}.', end=\"\\r\")\n"
   ]
  },
  {
   "cell_type": "code",
   "execution_count": null,
   "metadata": {},
   "outputs": [],
   "source": [
    "convert(folders)"
   ]
  },
  {
   "cell_type": "markdown",
   "metadata": {},
   "source": [
    "# Train Val Test Split"
   ]
  },
  {
   "cell_type": "code",
   "execution_count": 3,
   "metadata": {},
   "outputs": [],
   "source": [
    "folders_train_tmp, folders_test = train_test_split(folders, test_size=0.1, random_state=42)\n",
    "folders_train, folders_val = train_test_split(folders_train_tmp, test_size=0.22, random_state=42)\n",
    "\n",
    "del(folders_train_tmp)"
   ]
  },
  {
   "cell_type": "code",
   "execution_count": 4,
   "metadata": {},
   "outputs": [],
   "source": [
    "# We want the file structure to be\n",
    "\n",
    "# Main\n",
    "# |-- Train\n",
    "#     |-- flair_001.png\n",
    "#     |-- flair_002.png\n",
    "#     |-- .json\n",
    "# |-- Val\n",
    "#     |-- flair_001.png\n",
    "#     |-- flair_002.png\n",
    "#     |-- .json\n",
    "# |-- Test\n",
    "#     |-- flair_001.png\n",
    "#     |-- flair_002.png\n",
    "#     |-- .json"
   ]
  },
  {
   "cell_type": "code",
   "execution_count": 5,
   "metadata": {},
   "outputs": [],
   "source": [
    "if not os.path.exists(os.path.join(master_path, 'BraTS2021_Coco')): # BraTS2021_Training_Data\n",
    "    os.makedirs(os.path.join(master_path, 'BraTS2021_Coco'))\n",
    "\n",
    "datasets = ['Train', 'Val', 'Test']\n",
    "\n",
    "def create_folder_structure(dataset, org_folder = 'BraTS2021_Training_Data'):\n",
    "    dataset_ind = eval('folders_' + dataset.lower())\n",
    "    for counter, folder in enumerate(dataset_ind):\n",
    "        path_img = os.path.join(master_path, org_folder, folder, folder + '_flair.nii.gz')\n",
    "        path_label = os.path.join(master_path, org_folder, folder, folder + '_seg.nii.gz')\n",
    "        img = nib.load(path_img).get_fdata()\n",
    "        label = nib.load(path_label).get_fdata()\n",
    "\n",
    "        if not os.path.exists(os.path.join(master_path, 'BraTS2021_Coco', dataset)):\n",
    "            os.makedirs(os.path.join(master_path, 'BraTS2021_Coco', dataset))\n",
    "        # break images down\n",
    "        for i in range(img.shape[-1]):\n",
    "            img_slice = img[:,:,i]\n",
    "            label_slice = label[:,:,i]\n",
    "\n",
    "            # Separate labels\n",
    "            label_slice1 = np.where(label_slice == 1, 1, 0)\n",
    "            label_slice2 = np.where(label_slice == 2, 1, 0)\n",
    "            label_slice4 = np.where(label_slice == 4, 1, 0)\n",
    "\n",
    "            # Save images using matplotlib\n",
    "            plt.imsave(os.path.join(master_path, 'BraTS2021_Coco', dataset, folder + '_flair' + '_' + str(i+1) + '.png'), img_slice)\n",
    "            plt.imsave(os.path.join(master_path, 'BraTS2021_Coco', dataset, folder + '_seg' + '_level_1_' + str(i+1) + '.png'), label_slice1, cmap=\"gray\")\n",
    "            plt.imsave(os.path.join(master_path, 'BraTS2021_Coco', dataset, folder + '_seg' + '_level_2_' + str(i+1) + '.png'), label_slice2, cmap=\"gray\")\n",
    "            plt.imsave(os.path.join(master_path, 'BraTS2021_Coco', dataset, folder + '_seg' + '_level_4_' + str(i+1) + '.png'), label_slice4, cmap=\"gray\")\n",
    "\n",
    "            # Save images using cv2\n",
    "            # np.save(os.path.join(master_path + '_array', folder, folder + '_flair' + '_' + str(i+1)), img_slice)\n",
    "            # np.save(os.path.join(master_path + '_array', folder, folder + '_seg' + '_' + str(i+1)), label_slice)\n",
    "        print(f'Finished {counter+1}/{len(dataset_ind)}: {folder} for {dataset} set.', end=\"\\r\")\n",
    "    print('Finished all folders for ' + dataset + ' set. \\n')\n"
   ]
  },
  {
   "cell_type": "code",
   "execution_count": 6,
   "metadata": {},
   "outputs": [
    {
     "name": "stdout",
     "output_type": "stream",
     "text": [
      "Finished all folders for Train set. r Train set.\n",
      "\n",
      "Finished all folders for Val set. for Val set.\n",
      "\n",
      "Finished all folders for Test set. or Test set.\n",
      "\n"
     ]
    }
   ],
   "source": [
    "for dataset in datasets:\n",
    "    create_folder_structure(dataset)"
   ]
  },
  {
   "cell_type": "code",
   "execution_count": 7,
   "metadata": {},
   "outputs": [],
   "source": [
    "# To load an image\n",
    "# np.load('/tmp/123.npy')"
   ]
  },
  {
   "cell_type": "code",
   "execution_count": 11,
   "metadata": {},
   "outputs": [],
   "source": [
    "for dataset in datasets:\n",
    "    master_path = f\"./BraTS/BraTS2021_Coco/{dataset}/\"\n",
    "    for level in ['level_1', 'level_2', 'level_4']:\n",
    "        # find all level_1 files in Train etc\n",
    "        mask_files = glob.glob(master_path + f'*{level}*.png')\n",
    "        # Create file\n",
    "        if not os.path.exists(os.path.join(master_path, level)):\n",
    "            os.makedirs(os.path.join(master_path, level))\n",
    "        # move all mask_files to it\n",
    "        for mask_file in mask_files:\n",
    "            os.rename(mask_file, os.path.join(master_path, level, os.path.basename(mask_file)))"
   ]
  }
 ],
 "metadata": {
  "kernelspec": {
   "display_name": "Python 3",
   "language": "python",
   "name": "python3"
  },
  "language_info": {
   "codemirror_mode": {
    "name": "ipython",
    "version": 3
   },
   "file_extension": ".py",
   "mimetype": "text/x-python",
   "name": "python",
   "nbconvert_exporter": "python",
   "pygments_lexer": "ipython3",
   "version": "3.11.6"
  }
 },
 "nbformat": 4,
 "nbformat_minor": 2
}
