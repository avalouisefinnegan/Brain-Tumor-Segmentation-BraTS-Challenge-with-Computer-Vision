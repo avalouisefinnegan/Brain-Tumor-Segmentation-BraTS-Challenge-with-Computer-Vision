{
 "cells": [
  {
   "cell_type": "code",
   "execution_count": 7,
   "metadata": {},
   "outputs": [],
   "source": [
    "import os, glob, cv2, numpy as np, nibabel as nib, matplotlib.pylab as plt\n",
    "from sklearn.model_selection import train_test_split"
   ]
  },
  {
   "cell_type": "code",
   "execution_count": 8,
   "metadata": {},
   "outputs": [],
   "source": [
    "master_path = r'./BraTS/'\n",
    "folders = [folder for folder in os.listdir(os.path.join(master_path, 'BraTS2021_Training_Data')) if folder != '.DS_Store']"
   ]
  },
  {
   "cell_type": "code",
   "execution_count": 19,
   "metadata": {},
   "outputs": [],
   "source": [
    "if not os.path.exists(os.path.join(master_path, 'BraTS2021_Training_Data_2D')): # BraTS2021_Training_Data\n",
    "    os.makedirs(os.path.join(master_path, 'BraTS2021_Training_Data_2D'))\n",
    "    for folder in folders:\n",
    "        os.makedirs(os.path.join(master_path, 'BraTS2021_Training_Data_2D', folder))\n",
    "        for img_type in ['flair', 'seg', 't1', 't1ce', 't2']:\n",
    "            os.makedirs(os.path.join(master_path, 'BraTS2021_Training_Data_2D', folder, img_type))"
   ]
  },
  {
   "cell_type": "code",
   "execution_count": 10,
   "metadata": {},
   "outputs": [],
   "source": [
    "def CropAndResize(image):\n",
    "    # Find the non-zero regions\n",
    "    rows = np.any(image, axis=1)\n",
    "    cols = np.any(image, axis=0)\n",
    "\n",
    "    # Find the bounding box of the non-zero regions\n",
    "    rows_indices = np.where(rows)[0]\n",
    "    cols_indices = np.where(cols)[0]\n",
    "    if len(rows_indices) != 0 or len(cols_indices) != 0:\n",
    "        top_row = np.min(rows_indices)\n",
    "        bottom_row = np.max(rows_indices)\n",
    "        left_col = np.min(cols_indices)\n",
    "        right_col = np.max(cols_indices)\n",
    "\n",
    "        width = right_col - left_col\n",
    "        height = bottom_row - top_row\n",
    "\n",
    "        if width > height:\n",
    "            top_row = top_row - (width - height) // 2\n",
    "            bottom_row = bottom_row + (width - height) // 2\n",
    "        else:\n",
    "            left_col = left_col - (height - width) // 2\n",
    "            right_col = right_col + (height - width) // 2\n",
    "\n",
    "        # Crop the image\n",
    "        cropped_image = image[top_row:bottom_row + 1, left_col:right_col + 1]\n",
    "    else:\n",
    "        cropped_image = image\n",
    "    # Resize the image\n",
    "    dim = [64,64]\n",
    "    resized_image = cv2.resize(cropped_image, dim)\n",
    "    return resized_image\n",
    "\n",
    "def CropAndResizeWithRef(ref, image):\n",
    "    # Find the non-zero regions\n",
    "    rows = np.any(ref, axis=1)\n",
    "    cols = np.any(ref, axis=0)\n",
    "\n",
    "    # Find the bounding box of the non-zero regions\n",
    "    rows_indices = np.where(rows)[0]\n",
    "    cols_indices = np.where(cols)[0]\n",
    "    if len(rows_indices) != 0 or len(cols_indices) != 0:\n",
    "        top_row = np.min(rows_indices)\n",
    "        bottom_row = np.max(rows_indices)\n",
    "        left_col = np.min(cols_indices)\n",
    "        right_col = np.max(cols_indices)\n",
    "\n",
    "        width = right_col - left_col\n",
    "        height = bottom_row - top_row\n",
    "\n",
    "        if width > height:\n",
    "            top_row = top_row - (width - height) // 2\n",
    "            bottom_row = bottom_row + (width - height) // 2\n",
    "        else:\n",
    "            left_col = left_col - (height - width) // 2\n",
    "            right_col = right_col + (height - width) // 2\n",
    "\n",
    "        # Crop the image\n",
    "        resized_ref = ref[top_row:bottom_row + 1, left_col:right_col + 1]\n",
    "        cropped_image = image[top_row:bottom_row + 1, left_col:right_col + 1]\n",
    "    else:\n",
    "        resized_ref = ref\n",
    "        cropped_image = image\n",
    "    # Resize the image\n",
    "    dim = [64,64]\n",
    "    resized_image = cv2.resize(cropped_image, dim, interpolation = cv2.INTER_NEAREST)\n",
    "    resized_ref = cv2.resize(resized_ref, dim)\n",
    "    return resized_ref, resized_image.astype(np.uint8)\n",
    "\n",
    "def Standardise(image) :\n",
    "        if np.abs(image).sum() == 0:\n",
    "            return image\n",
    "        with np.errstate(divide='ignore',invalid='ignore'):\n",
    "            image_nan = np.where(image == 0, np.nan, image)\n",
    "            new_image = (image_nan - np.nanmean(image_nan)) / np.nanstd(image_nan)\n",
    "            new_image = np.nan_to_num(new_image)\n",
    "        return new_image"
   ]
  },
  {
   "cell_type": "code",
   "execution_count": 5,
   "metadata": {},
   "outputs": [],
   "source": [
    "def convert(folders, org_folder = 'BraTS2021_Training_Data'):\n",
    "    for counter, folder in enumerate(folders):\n",
    "        img_path = os.path.join(master_path, org_folder, folder, folder + '_flair.nii.gz')\n",
    "        lab_path = os.path.join(master_path, org_folder, folder, folder + '_seg.nii.gz')\n",
    "        img = nib.load(img_path).get_fdata()\n",
    "        lab = nib.load(lab_path).get_fdata()\n",
    "        for i in range(img.shape[-1]):\n",
    "            img_slice = img[:,:,i]\n",
    "            lab_slice = lab[:,:,i]\n",
    "            img_final, lab_final = CropAndResizeWithRef(img_slice, lab_slice)\n",
    "            img_final = Standardise(img_final)\n",
    "            # plt.imsave(os.path.join(master_path, 'BraTS2021_Training_Data_2D', folder, 'flair', folder + '_flair_' + str(i+1) + '.png'), img_final)\n",
    "            np.save(os.path.join(master_path, 'BraTS2021_Training_Data_2D', folder, 'flair', folder + '_flair_' + str(i+1)), img_final)\n",
    "            np.save(os.path.join(master_path, 'BraTS2021_Training_Data_2D', folder, 'seg', folder + '_seg_' + str(i+1)), lab_final)\n",
    "            # np.save(os.path.join(master_path, 'BraTS2021_Training_Data_2D', folder, 'seg_bin', folder + '_seg_bin_' + str(i+1) + '.png'), (lab_final > 0).astype(np.uint8))\n",
    "        for img_type in ['t1', 't1ce', 't2']:\n",
    "            img_path = os.path.join(master_path, org_folder, folder, folder + '_' + img_type + '.nii.gz')\n",
    "            img = nib.load(img_path).get_fdata()\n",
    "            for i in range(img.shape[-1]):\n",
    "                img_slice = img[:,:,i]\n",
    "                img_final = Standardise(CropAndResize(img_slice))\n",
    "                np.save(os.path.join(master_path, 'BraTS2021_Training_Data_2D', folder, img_type, folder + '_' + img_type + '_' + str(i+1)), img_final)\n",
    "                # plt.imsave(os.path.join(master_path, 'BraTS2021_Training_Data_2D', folder, img_type, folder + '_' + img_type + '_' + str(i+1) + '.png'), img_final)\n",
    "        print(f'Finished {counter+1}/{len(folders)}.', end=\"\\r\")\n"
   ]
  },
  {
   "cell_type": "code",
   "execution_count": 6,
   "metadata": {},
   "outputs": [
    {
     "name": "stdout",
     "output_type": "stream",
     "text": [
      "Finished 1251/1251.\r"
     ]
    }
   ],
   "source": [
    "convert(folders)"
   ]
  },
  {
   "cell_type": "code",
   "execution_count": 11,
   "metadata": {},
   "outputs": [],
   "source": [
    "# def convert_multi(folder):\n",
    "#     org_folder = 'BraTS2021_Training_Data'\n",
    "#     img_path = os.path.join(master_path, org_folder, folder, folder + '_flair.nii.gz')\n",
    "#     lab_path = os.path.join(master_path, org_folder, folder, folder + '_seg.nii.gz')\n",
    "#     img = nib.load(img_path).get_fdata()\n",
    "#     lab = nib.load(lab_path).get_fdata()\n",
    "#     for i in range(img.shape[-1]):\n",
    "#         img_slice = img[:,:,i]\n",
    "#         lab_slice = lab[:,:,i]\n",
    "#         img_final, lab_final = CropAndResizeWithRef(img_slice, lab_slice)\n",
    "#         img_final = Standardise(img_final)\n",
    "#         # plt.imsave(os.path.join(master_path, 'BraTS2021_Training_Data_2D', folder, 'flair', folder + '_flair_' + str(i+1) + '.png'), img_final)\n",
    "#         np.save(os.path.join(master_path, 'BraTS2021_Training_Data_2D', folder, 'flair', folder + '_flair_' + str(i+1)), img_final)\n",
    "#         np.save(os.path.join(master_path, 'BraTS2021_Training_Data_2D', folder, 'seg', folder + '_seg_' + str(i+1)), lab_final)\n",
    "#         # np.save(os.path.join(master_path, 'BraTS2021_Training_Data_2D', folder, 'seg_bin', folder + '_seg_bin_' + str(i+1) + '.png'), (lab_final > 0).astype(np.uint8))\n",
    "#     for img_type in ['t1', 't1ce', 't2']:\n",
    "#         img_path = os.path.join(master_path, org_folder, folder, folder + '_' + img_type + '.nii.gz')\n",
    "#         img = nib.load(img_path).get_fdata()\n",
    "#         for i in range(img.shape[-1]):\n",
    "#             img_slice = img[:,:,i]\n",
    "#             img_final = Standardise(CropAndResize(img_slice))\n",
    "#             np.save(os.path.join(master_path, 'BraTS2021_Training_Data_2D', folder, img_type, folder + '_' + img_type + '_' + str(i+1)), img_final)\n",
    "#             # plt.imsave(os.path.join(master_path, 'BraTS2021_Training_Data_2D', folder, img_type, folder + '_' + img_type + '_' + str(i+1) + '.png'), img_final)"
   ]
  },
  {
   "cell_type": "code",
   "execution_count": 20,
   "metadata": {},
   "outputs": [],
   "source": [
    "import os, multiprocessing\n",
    "from convert_multi import convert_multi\n",
    "if __name__ == \"__main__\":\n",
    "    pool = multiprocessing.Pool(processes=multiprocessing.cpu_count())  # Use all available CPU cores\n",
    "    pool.map(convert_multi, folders)\n",
    "    pool.close()\n",
    "    pool.join()"
   ]
  },
  {
   "cell_type": "markdown",
   "metadata": {},
   "source": [
    "# Train Val Test Split"
   ]
  },
  {
   "cell_type": "code",
   "execution_count": null,
   "metadata": {},
   "outputs": [],
   "source": [
    "folders_train_tmp, folders_test = train_test_split(folders, test_size=0.1, random_state=42)\n",
    "folders_train, folders_val = train_test_split(folders_train_tmp, test_size=0.22, random_state=42)\n",
    "\n",
    "del(folders_train_tmp)"
   ]
  },
  {
   "cell_type": "code",
   "execution_count": null,
   "metadata": {},
   "outputs": [],
   "source": [
    "# We want the file structure to be\n",
    "\n",
    "# Main\n",
    "# |-- Train\n",
    "#     |-- flair_001.png\n",
    "#     |-- flair_002.png\n",
    "#     |-- .json\n",
    "# |-- Val\n",
    "#     |-- flair_001.png\n",
    "#     |-- flair_002.png\n",
    "#     |-- .json\n",
    "# |-- Test\n",
    "#     |-- flair_001.png\n",
    "#     |-- flair_002.png\n",
    "#     |-- .json"
   ]
  },
  {
   "cell_type": "code",
   "execution_count": null,
   "metadata": {},
   "outputs": [],
   "source": [
    "if not os.path.exists(os.path.join(master_path, 'BraTS2021_Coco')): # BraTS2021_Training_Data\n",
    "    os.makedirs(os.path.join(master_path, 'BraTS2021_Coco'))\n",
    "\n",
    "datasets = ['Train', 'Val', 'Test']\n",
    "\n",
    "def create_folder_structure(dataset, org_folder = 'BraTS2021_Training_Data'):\n",
    "    dataset_ind = eval('folders_' + dataset.lower())\n",
    "    for counter, folder in enumerate(dataset_ind):\n",
    "        path_img = os.path.join(master_path, org_folder, folder, folder + '_flair.nii.gz')\n",
    "        path_label = os.path.join(master_path, org_folder, folder, folder + '_seg.nii.gz')\n",
    "        img = nib.load(path_img).get_fdata()\n",
    "        label = nib.load(path_label).get_fdata()\n",
    "\n",
    "        if not os.path.exists(os.path.join(master_path, 'BraTS2021_Coco', dataset)):\n",
    "            os.makedirs(os.path.join(master_path, 'BraTS2021_Coco', dataset))\n",
    "        # break images down\n",
    "        for i in range(img.shape[-1]):\n",
    "            img_slice = img[:,:,i]\n",
    "            label_slice = label[:,:,i]\n",
    "\n",
    "            # Separate labels\n",
    "            label_slice1 = np.where(label_slice == 1, 1, 0)\n",
    "            label_slice2 = np.where(label_slice == 2, 1, 0)\n",
    "            label_slice4 = np.where(label_slice == 4, 1, 0)\n",
    "\n",
    "            # Save images using matplotlib\n",
    "            plt.imsave(os.path.join(master_path, 'BraTS2021_Coco', dataset, folder + '_flair' + '_' + str(i+1) + '.png'), img_slice)\n",
    "            plt.imsave(os.path.join(master_path, 'BraTS2021_Coco', dataset, folder + '_seg' + '_level_1_' + str(i+1) + '.png'), label_slice1, cmap=\"gray\")\n",
    "            plt.imsave(os.path.join(master_path, 'BraTS2021_Coco', dataset, folder + '_seg' + '_level_2_' + str(i+1) + '.png'), label_slice2, cmap=\"gray\")\n",
    "            plt.imsave(os.path.join(master_path, 'BraTS2021_Coco', dataset, folder + '_seg' + '_level_4_' + str(i+1) + '.png'), label_slice4, cmap=\"gray\")\n",
    "\n",
    "            # Save images using cv2\n",
    "            # np.save(os.path.join(master_path + '_array', folder, folder + '_flair' + '_' + str(i+1)), img_slice)\n",
    "            # np.save(os.path.join(master_path + '_array', folder, folder + '_seg' + '_' + str(i+1)), label_slice)\n",
    "        print(f'Finished {counter+1}/{len(dataset_ind)}: {folder} for {dataset} set.', end=\"\\r\")\n",
    "    print('Finished all folders for ' + dataset + ' set. \\n')\n"
   ]
  },
  {
   "cell_type": "code",
   "execution_count": null,
   "metadata": {},
   "outputs": [],
   "source": [
    "for dataset in datasets:\n",
    "    create_folder_structure(dataset)"
   ]
  },
  {
   "cell_type": "code",
   "execution_count": null,
   "metadata": {},
   "outputs": [],
   "source": [
    "# To load an image\n",
    "# np.load('/tmp/123.npy')"
   ]
  },
  {
   "cell_type": "code",
   "execution_count": null,
   "metadata": {},
   "outputs": [],
   "source": [
    "for dataset in datasets:\n",
    "    master_path = f\"./BraTS/BraTS2021_Coco/{dataset}/\"\n",
    "    for level in ['level_1', 'level_2', 'level_4']:\n",
    "        # find all level_1 files in Train etc\n",
    "        mask_files = glob.glob(master_path + f'*{level}*.png')\n",
    "        # Create file\n",
    "        if not os.path.exists(os.path.join(master_path, level)):\n",
    "            os.makedirs(os.path.join(master_path, level))\n",
    "        # move all mask_files to it\n",
    "        for mask_file in mask_files:\n",
    "            os.rename(mask_file, os.path.join(master_path, level, os.path.basename(mask_file)))"
   ]
  }
 ],
 "metadata": {
  "kernelspec": {
   "display_name": "Python 3",
   "language": "python",
   "name": "python3"
  },
  "language_info": {
   "codemirror_mode": {
    "name": "ipython",
    "version": 3
   },
   "file_extension": ".py",
   "mimetype": "text/x-python",
   "name": "python",
   "nbconvert_exporter": "python",
   "pygments_lexer": "ipython3",
   "version": "3.11.6"
  }
 },
 "nbformat": 4,
 "nbformat_minor": 2
}
