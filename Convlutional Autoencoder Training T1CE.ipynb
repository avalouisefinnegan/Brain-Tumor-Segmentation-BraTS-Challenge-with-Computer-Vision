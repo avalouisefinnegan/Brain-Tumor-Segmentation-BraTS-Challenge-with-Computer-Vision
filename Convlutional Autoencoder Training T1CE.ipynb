{
 "cells": [
  {
   "cell_type": "code",
   "execution_count": 1,
   "metadata": {},
   "outputs": [],
   "source": [
    "N_EPOCHS = 40\n",
    "batch_size = 64\n",
    "scan_type = 'T1CE'"
   ]
  },
  {
   "cell_type": "markdown",
   "metadata": {},
   "source": [
    "## Setup"
   ]
  },
  {
   "cell_type": "code",
   "execution_count": 2,
   "metadata": {},
   "outputs": [],
   "source": [
    "import os, random, time\n",
    "import numpy as np\n",
    "import pandas as pd\n",
    "import nibabel as nib\n",
    "import cv2\n",
    "import matplotlib.pyplot as plt\n",
    "\n",
    "# Pytorch functions\n",
    "import torch\n",
    "# Neural network layers\n",
    "import torch.nn as nn\n",
    "import torch.nn.functional as F\n",
    "# Optimizer\n",
    "import torch.optim as optim\n",
    "from torch.utils.data import Dataset, DataLoader, random_split, Subset\n",
    "# Torchvision library\n",
    "from torchvision import transforms\n",
    "\n",
    "from sklearn.model_selection import train_test_split\n",
    "from sklearn.preprocessing import MinMaxScaler\n",
    "# For results\n",
    "from sklearn.metrics import confusion_matrix\n",
    "from sklearn.metrics import classification_report\n",
    "\n",
    "from torchsummary import summary\n",
    "\n",
    "from utilities import *"
   ]
  },
  {
   "cell_type": "code",
   "execution_count": 3,
   "metadata": {},
   "outputs": [
    {
     "name": "stdout",
     "output_type": "stream",
     "text": [
      "mps\n"
     ]
    }
   ],
   "source": [
    "# Device configuration\n",
    "if torch.cuda.is_available():\n",
    "    device = torch.device('cuda')\n",
    "elif torch.backends.mps.is_available():\n",
    "   device = torch.device('mps')\n",
    "else:\n",
    "    device = torch.device('cpu')\n",
    "\n",
    "# Assuming that we are on a CUDA machine, this should print a CUDA device:\n",
    "print(device)"
   ]
  },
  {
   "cell_type": "code",
   "execution_count": 4,
   "metadata": {},
   "outputs": [],
   "source": [
    "def set_seed(seed, use_cuda = True, use_mps = False):\n",
    "    \"\"\"\n",
    "    Set SEED for PyTorch reproducibility\n",
    "    \"\"\"\n",
    "    random.seed(seed)\n",
    "    np.random.seed(seed)\n",
    "    torch.manual_seed(seed)\n",
    "    if use_cuda:\n",
    "        torch.cuda.manual_seed_all(seed)\n",
    "        torch.cuda.manual_seed(seed)\n",
    "        torch.backends.cudnn.deterministic = True\n",
    "        torch.backends.cudnn.benchmark = False\n",
    "    if use_mps:\n",
    "        torch.mps.manual_seed(seed)\n",
    "\n",
    "SEED = 44\n",
    "\n",
    "USE_SEED = True\n",
    "\n",
    "if USE_SEED:\n",
    "    set_seed(SEED, torch.cuda.is_available(), torch.backends.mps.is_available())"
   ]
  },
  {
   "cell_type": "markdown",
   "metadata": {},
   "source": [
    "## Define Custom Dataset"
   ]
  },
  {
   "cell_type": "code",
   "execution_count": 5,
   "metadata": {},
   "outputs": [],
   "source": [
    "class BraTSDataset(Dataset):\n",
    "    def __init__(self, image_path = r'./BraTS/BraTS2021_Training_Data_2D', transform=None):\n",
    "        'Initialisation'\n",
    "        self.image_path = image_path\n",
    "        self.folders_name = [folder for folder in os.listdir(self.image_path) if folder != '.DS_Store']\n",
    "        self.transform = transform\n",
    "\n",
    "    def __len__(self):\n",
    "        'Denotes the total number of samples'\n",
    "        return len(self.folders_name) * 155\n",
    "\n",
    "    def __getitem__(self, index):\n",
    "        'Generates one sample of data'\n",
    "\n",
    "        # Determine the image index and the RGB layer\n",
    "        image_idx = index // 155\n",
    "        layer_idx = index % 155\n",
    "\n",
    "        # Select sample\n",
    "        file_name = self.folders_name[image_idx]\n",
    "        \n",
    "        path_img = os.path.join(self.image_path, file_name, scan_type.lower(), file_name + '_' + scan_type.lower() + '_' + str(layer_idx+1) + '.npy')\n",
    "        image = np.load(path_img).astype(np.float32)\n",
    "\n",
    "        path_label = os.path.join(self.image_path, file_name, 'seg', file_name + '_seg_' + str(layer_idx+1) + '.npy')\n",
    "        label = np.load(path_label)\n",
    "        \n",
    "        if self.transform:\n",
    "            image, label = self.transform([image, label])\n",
    "        return image, label"
   ]
  },
  {
   "cell_type": "code",
   "execution_count": 6,
   "metadata": {},
   "outputs": [],
   "source": [
    "class BinariseLabel(object):\n",
    "    def __call__(self, sample):\n",
    "        image, label = sample\n",
    "        new_label = np.sign(label)\n",
    "        return image, new_label\n",
    "\n",
    "class ToTensor(object):\n",
    "    \"\"\"Convert ndarrays in sample to Tensors.\"\"\"\n",
    "    def __call__(self, sample):\n",
    "        image, label = sample\n",
    "\n",
    "        # numpy image: H x W x C\n",
    "        # torch image: C x H x W\n",
    "        # image = image.transpose((2, 0, 1))\n",
    "        return torch.from_numpy(image), torch.from_numpy(label)"
   ]
  },
  {
   "cell_type": "code",
   "execution_count": 7,
   "metadata": {},
   "outputs": [],
   "source": [
    "dataset = BraTSDataset(image_path = r'./BraTS/BraTS2021_Training_Data_2D',\n",
    "                        transform=transforms.Compose([\n",
    "                            BinariseLabel(),\n",
    "                            ToTensor()\n",
    "                        ]))"
   ]
  },
  {
   "cell_type": "markdown",
   "metadata": {},
   "source": [
    "## Train Test Split"
   ]
  },
  {
   "cell_type": "code",
   "execution_count": 8,
   "metadata": {},
   "outputs": [],
   "source": [
    "dataset_size = int(len(dataset)/155)\n",
    "dataset_indices = list(range(dataset_size))\n",
    "\n",
    "train_indices, test_indices = train_test_split(dataset_indices, test_size=0.1, random_state=SEED)\n",
    "train_indices, val_indices = train_test_split(train_indices, test_size=0.22, random_state=SEED)\n",
    "\n",
    "tmp_list = [[],[],[]]\n",
    "for i, ind_list in enumerate([train_indices, val_indices, test_indices]):\n",
    "    for ind in ind_list:\n",
    "        for j in range(155):\n",
    "            tmp_list[i].append(ind*155 + j)\n",
    "train_indices, val_indices, test_indices = tmp_list\n",
    "\n",
    "train_subset = Subset(dataset, train_indices)\n",
    "val_subset = Subset(dataset, val_indices)\n",
    "test_subset = Subset(dataset, test_indices)\n",
    "\n",
    "# Create the subset DataLoader\n",
    "train_dataloader = DataLoader(train_subset, batch_size=batch_size, shuffle=True)\n",
    "val_dataloader = DataLoader(val_subset, batch_size=batch_size, shuffle=False)\n",
    "test_dataloader = DataLoader(test_subset, batch_size=batch_size, shuffle=False)\n",
    "# multiprocessing_context=\"forkserver\", persistent_workers=True, num_workers = 4"
   ]
  },
  {
   "cell_type": "markdown",
   "metadata": {},
   "source": [
    "## Define Convlutional Autoencoder Structure"
   ]
  },
  {
   "cell_type": "code",
   "execution_count": 9,
   "metadata": {},
   "outputs": [],
   "source": [
    "class ConvAutoencoder(nn.Module):\n",
    "  def __init__(self):\n",
    "    super().__init__()\n",
    "\n",
    "    self.features = nn.Sequential(\n",
    "      ## encoder layers ##\n",
    "      # conv layer (depth from 1 --> 4), 3x3 kernels\n",
    "      # Input 64 x 64\n",
    "      nn.Conv2d(in_channels=1, out_channels=4, kernel_size=3, padding = 'same'), # 64 x 64\n",
    "      nn.ReLU(),\n",
    "      # pooling layer to reduce x-y dims by two; kernel and stride of 2\n",
    "      nn.MaxPool2d(2), ## 32 x 32\n",
    "      # conv layer (depth from 4 --> 8), 4x4 kernels\n",
    "      nn.Conv2d(in_channels=4, out_channels=8, kernel_size=3, padding = 'same'), # 32 x 32\n",
    "      nn.ReLU(),\n",
    "      nn.MaxPool2d(2), # 16 x 16\n",
    "      # conv layer (depth from 8 --> 12), 5x5 kernels\n",
    "      nn.Conv2d(in_channels=8, out_channels=12, kernel_size=3, padding = 'same'), # ( 12 x ) 16 x 16\n",
    "      nn.ReLU(),\n",
    "      \n",
    "      ## decoder layers ##\n",
    "      # add transpose conv layers, with relu activation function\n",
    "      nn.ConvTranspose2d(12, 6, kernel_size = 2, stride=2), # 32 x 32\n",
    "      nn.ReLU(),\n",
    "      nn.ConvTranspose2d(6, 1, kernel_size = 2, stride=2), # 64 x 64\n",
    "      # output layer (with sigmoid for scaling from 0 to 1)\n",
    "      # nn.Sigmoid()\n",
    "    )\n",
    "    \n",
    "  def forward(self, x):\n",
    "    x = x.view(int(np.prod(x.shape)/(64**2)), 1, 64, 64)\n",
    "    x = self.features(x)\n",
    "    # x = x.view(x.shape[0], -1)\n",
    "    # x = torch.flatten(x, start_dim=1)\n",
    "    return x"
   ]
  },
  {
   "cell_type": "code",
   "execution_count": 10,
   "metadata": {},
   "outputs": [
    {
     "name": "stdout",
     "output_type": "stream",
     "text": [
      "The model has 1,531 trainable parameters.\n"
     ]
    }
   ],
   "source": [
    "model = ConvAutoencoder().to(device)\n",
    "\n",
    "print(f\"The model has {count_parameters(model):,} trainable parameters.\")"
   ]
  },
  {
   "cell_type": "markdown",
   "metadata": {},
   "source": [
    "## Loss function and Optimisation Methods"
   ]
  },
  {
   "cell_type": "code",
   "execution_count": 11,
   "metadata": {},
   "outputs": [],
   "source": [
    "# Loss\n",
    "# criterion = nn.CrossEntropyLoss() # Softmax + CrossEntropy\n",
    "# criterion = nn.BCELoss()\n",
    "criterion = torch.nn.BCEWithLogitsLoss()\n",
    "criterion = criterion.to(device)\n",
    "\n",
    "# Optim\n",
    "optimizer = optim.Adam(model.parameters(), lr=1e-2, weight_decay=1e-4)"
   ]
  },
  {
   "cell_type": "markdown",
   "metadata": {},
   "source": [
    "## Model Training"
   ]
  },
  {
   "cell_type": "code",
   "execution_count": 12,
   "metadata": {},
   "outputs": [
    {
     "name": "stdout",
     "output_type": "stream",
     "text": [
      "100.0 % loaded in this epoch for training\n",
      "\n",
      "100.0 % loaded in this epoch for evaluation.\n",
      "\n",
      "---------------------------------\n",
      "\n",
      "Epoch: 1/10 -- Epoch Time: 135.26 s\n",
      "Train -- Loss: 0.051, Acc: 98.06%\n",
      "Val -- Loss: 0.043, Acc: 98.53%\n",
      "100.0 % loaded in this epoch for training\n",
      "\n",
      "100.0 % loaded in this epoch for evaluation.\n",
      "\n",
      "---------------------------------\n",
      "\n",
      "Epoch: 2/10 -- Epoch Time: 131.86 s\n",
      "Train -- Loss: 0.041, Acc: 98.58%\n",
      "Val -- Loss: 0.043, Acc: 98.53%\n",
      "100.0 % loaded in this epoch for training\n",
      "\n",
      "100.0 % loaded in this epoch for evaluation.\n",
      "\n",
      "---------------------------------\n",
      "\n",
      "Epoch: 3/10 -- Epoch Time: 133.21 s\n",
      "Train -- Loss: 0.040, Acc: 98.60%\n",
      "Val -- Loss: 0.044, Acc: 98.37%\n",
      "100.0 % loaded in this epoch for training\n",
      "\n",
      "100.0 % loaded in this epoch for evaluation.\n",
      "\n",
      "---------------------------------\n",
      "\n",
      "Epoch: 4/10 -- Epoch Time: 134.11 s\n",
      "Train -- Loss: 0.040, Acc: 98.60%\n",
      "Val -- Loss: 0.040, Acc: 98.58%\n",
      "100.0 % loaded in this epoch for training\n",
      "\n",
      "100.0 % loaded in this epoch for evaluation.\n",
      "\n",
      "---------------------------------\n",
      "\n",
      "Epoch: 5/10 -- Epoch Time: 135.44 s\n",
      "Train -- Loss: 0.039, Acc: 98.62%\n",
      "Val -- Loss: 0.041, Acc: 98.62%\n",
      "100.0 % loaded in this epoch for training\n",
      "\n",
      "100.0 % loaded in this epoch for evaluation.\n",
      "\n",
      "---------------------------------\n",
      "\n",
      "Epoch: 6/10 -- Epoch Time: 135.29 s\n",
      "Train -- Loss: 0.039, Acc: 98.62%\n",
      "Val -- Loss: 0.039, Acc: 98.64%\n",
      "100.0 % loaded in this epoch for training\n",
      "\n",
      "100.0 % loaded in this epoch for evaluation.\n",
      "\n",
      "---------------------------------\n",
      "\n",
      "Epoch: 7/10 -- Epoch Time: 132.78 s\n",
      "Train -- Loss: 0.039, Acc: 98.63%\n",
      "Val -- Loss: 0.040, Acc: 98.61%\n",
      "100.0 % loaded in this epoch for training\n",
      "\n",
      "100.0 % loaded in this epoch for evaluation.\n",
      "\n",
      "---------------------------------\n",
      "\n",
      "Epoch: 8/10 -- Epoch Time: 131.35 s\n",
      "Train -- Loss: 0.039, Acc: 98.64%\n",
      "Val -- Loss: 0.039, Acc: 98.58%\n",
      "100.0 % loaded in this epoch for training\n",
      "\n",
      "100.0 % loaded in this epoch for evaluation.\n",
      "\n",
      "---------------------------------\n",
      "\n",
      "Epoch: 9/10 -- Epoch Time: 131.66 s\n",
      "Train -- Loss: 0.038, Acc: 98.64%\n",
      "Val -- Loss: 0.038, Acc: 98.68%\n",
      "100.0 % loaded in this epoch for training\n",
      "\n",
      "100.0 % loaded in this epoch for evaluation.\n",
      "\n",
      "---------------------------------\n",
      "\n",
      "Epoch: 10/10 -- Epoch Time: 132.11 s\n",
      "Train -- Loss: 0.038, Acc: 98.67%\n",
      "Val -- Loss: 0.039, Acc: 98.65%\n"
     ]
    }
   ],
   "source": [
    "train_losses, train_accs, valid_losses, valid_accs,\\\n",
    "    train_losses_batch, train_accs_batch, valid_losses_batch, valid_accs_batch = model_training(N_EPOCHS,\n",
    "                                                                                                    model,\n",
    "                                                                                                    train_dataloader,\n",
    "                                                                                                    val_dataloader,\n",
    "                                                                                                    optimizer,\n",
    "                                                                                                    criterion,\n",
    "                                                                                                    device,\n",
    "                                                                                                    './models/CA_' + scan_type + '.pt')"
   ]
  },
  {
   "cell_type": "markdown",
   "metadata": {},
   "source": [
    "## Save train, val and test indices, losses and accuracies"
   ]
  },
  {
   "cell_type": "code",
   "execution_count": 13,
   "metadata": {},
   "outputs": [],
   "source": [
    "os.makedirs('./results', exist_ok=True)\n",
    "\n",
    "pd.DataFrame({\n",
    "    'Train Loss': train_losses,\n",
    "    'Train Acc': train_accs,\n",
    "    'Valid Loss': valid_losses,\n",
    "    'Valid Acc': valid_accs\n",
    "}).to_csv(f'./results/CA_{scan_type}.csv', index = False)\n"
   ]
  },
  {
   "cell_type": "code",
   "execution_count": 23,
   "metadata": {},
   "outputs": [],
   "source": [
    "stacked_df = pd.concat([pd.DataFrame(pd.DataFrame(train_losses_batch).values.flatten(), columns=['Train Loss']),\n",
    "                        pd.DataFrame(pd.DataFrame(train_accs_batch).values.flatten(), columns=['Train Acc']),\n",
    "                        pd.DataFrame(pd.DataFrame(valid_losses_batch).values.flatten(), columns=['Valid Loss']),\n",
    "                        pd.DataFrame(pd.DataFrame(valid_accs_batch).values.flatten(), columns=['Valid Acc'])], axis=1)\n",
    "stacked_df.to_csv(f'./results/CA_{scan_type}_batch.csv', index = False)"
   ]
  },
  {
   "cell_type": "markdown",
   "metadata": {},
   "source": [
    "# Predict"
   ]
  },
  {
   "cell_type": "code",
   "execution_count": 13,
   "metadata": {},
   "outputs": [
    {
     "name": "stdout",
     "output_type": "stream",
     "text": [
      "100.0 % loaded in this epoch for evaluation.\n",
      "\n",
      "Test -- Loss: 0.040, Acc: 98.65 %\n"
     ]
    }
   ],
   "source": [
    "test_loss, test_acc, test_batch_loss, test_batch_acc = model_testing(model, test_dataloader, criterion, device, model_name=f'./models/CA_{scan_type}.pt')"
   ]
  },
  {
   "cell_type": "code",
   "execution_count": 14,
   "metadata": {},
   "outputs": [
    {
     "data": {
      "text/plain": [
       "0.03967314137594704"
      ]
     },
     "execution_count": 14,
     "metadata": {},
     "output_type": "execute_result"
    }
   ],
   "source": [
    "test_loss"
   ]
  },
  {
   "cell_type": "code",
   "execution_count": 15,
   "metadata": {},
   "outputs": [
    {
     "data": {
      "text/plain": [
       "0.986500372294507"
      ]
     },
     "execution_count": 15,
     "metadata": {},
     "output_type": "execute_result"
    }
   ],
   "source": [
    "test_acc"
   ]
  },
  {
   "cell_type": "code",
   "execution_count": 28,
   "metadata": {},
   "outputs": [],
   "source": [
    "stacked_df = pd.concat([pd.DataFrame(pd.DataFrame(test_batch_loss).values.flatten(), columns=['Test Loss']),\n",
    "                        pd.DataFrame(pd.DataFrame(test_batch_acc).values.flatten(), columns=['Test Acc'])], axis=1)\n",
    "stacked_df.to_csv(f'./results/CA_{scan_type}_batch_test.csv', index = False)"
   ]
  },
  {
   "cell_type": "code",
   "execution_count": 29,
   "metadata": {},
   "outputs": [
    {
     "data": {
      "text/plain": [
       "ConvAutoencoder(\n",
       "  (features): Sequential(\n",
       "    (0): Conv2d(1, 4, kernel_size=(3, 3), stride=(1, 1), padding=same)\n",
       "    (1): ReLU()\n",
       "    (2): MaxPool2d(kernel_size=2, stride=2, padding=0, dilation=1, ceil_mode=False)\n",
       "    (3): Conv2d(4, 8, kernel_size=(3, 3), stride=(1, 1), padding=same)\n",
       "    (4): ReLU()\n",
       "    (5): MaxPool2d(kernel_size=2, stride=2, padding=0, dilation=1, ceil_mode=False)\n",
       "    (6): Conv2d(8, 12, kernel_size=(3, 3), stride=(1, 1), padding=same)\n",
       "    (7): ReLU()\n",
       "    (8): ConvTranspose2d(12, 6, kernel_size=(2, 2), stride=(2, 2))\n",
       "    (9): ReLU()\n",
       "    (10): ConvTranspose2d(6, 1, kernel_size=(2, 2), stride=(2, 2))\n",
       "  )\n",
       ")"
      ]
     },
     "execution_count": 29,
     "metadata": {},
     "output_type": "execute_result"
    }
   ],
   "source": [
    "model.load_state_dict(torch.load(f'./models/CA_{scan_type}.pt'))\n",
    "model.to(device)"
   ]
  },
  {
   "cell_type": "code",
   "execution_count": 30,
   "metadata": {},
   "outputs": [],
   "source": [
    "labels, preds = predict(model, test_dataloader, device)"
   ]
  },
  {
   "cell_type": "code",
   "execution_count": 31,
   "metadata": {},
   "outputs": [
    {
     "data": {
      "text/plain": [
       "tensor([[0, 0, 0,  ..., 0, 0, 0],\n",
       "        [0, 0, 0,  ..., 0, 0, 0],\n",
       "        [0, 0, 0,  ..., 0, 0, 0],\n",
       "        ...,\n",
       "        [0, 0, 0,  ..., 0, 0, 0],\n",
       "        [0, 0, 0,  ..., 0, 0, 0],\n",
       "        [0, 0, 0,  ..., 0, 0, 0]], dtype=torch.int32)"
      ]
     },
     "execution_count": 31,
     "metadata": {},
     "output_type": "execute_result"
    }
   ],
   "source": [
    "preds[550]"
   ]
  },
  {
   "cell_type": "code",
   "execution_count": 32,
   "metadata": {},
   "outputs": [
    {
     "data": {
      "text/plain": [
       "tensor([[0, 0, 0,  ..., 0, 0, 0],\n",
       "        [0, 0, 0,  ..., 0, 0, 0],\n",
       "        [0, 0, 0,  ..., 0, 0, 0],\n",
       "        ...,\n",
       "        [0, 0, 0,  ..., 0, 0, 0],\n",
       "        [0, 0, 0,  ..., 0, 0, 0],\n",
       "        [0, 0, 0,  ..., 0, 0, 0]], dtype=torch.int32)"
      ]
     },
     "execution_count": 32,
     "metadata": {},
     "output_type": "execute_result"
    }
   ],
   "source": [
    "labels[550]"
   ]
  },
  {
   "cell_type": "code",
   "execution_count": 33,
   "metadata": {},
   "outputs": [],
   "source": [
    "folders = [folder for folder in os.listdir(os.path.join('./BraTS', 'BraTS2021_Training_Data')) if folder != '.DS_Store']"
   ]
  },
  {
   "cell_type": "code",
   "execution_count": 34,
   "metadata": {},
   "outputs": [
    {
     "data": {
      "text/plain": [
       "(831, 85)"
      ]
     },
     "execution_count": 34,
     "metadata": {},
     "output_type": "execute_result"
    }
   ],
   "source": [
    "def index_converter(index):\n",
    "    return index // 155, index % 155 # image_idx, layer_idx\n",
    "index_converter(test_indices[550])"
   ]
  },
  {
   "cell_type": "code",
   "execution_count": 35,
   "metadata": {},
   "outputs": [
    {
     "data": {
      "text/plain": [
       "'BraTS2021_00370'"
      ]
     },
     "execution_count": 35,
     "metadata": {},
     "output_type": "execute_result"
    }
   ],
   "source": [
    "folders[831]"
   ]
  },
  {
   "cell_type": "code",
   "execution_count": 36,
   "metadata": {},
   "outputs": [
    {
     "data": {
      "text/plain": [
       "array([[0, 0, 0, ..., 0, 0, 0],\n",
       "       [0, 0, 0, ..., 0, 0, 0],\n",
       "       [0, 0, 0, ..., 0, 0, 0],\n",
       "       ...,\n",
       "       [0, 0, 0, ..., 0, 0, 0],\n",
       "       [0, 0, 0, ..., 0, 0, 0],\n",
       "       [0, 0, 0, ..., 0, 0, 0]], dtype=uint8)"
      ]
     },
     "execution_count": 36,
     "metadata": {},
     "output_type": "execute_result"
    }
   ],
   "source": [
    "np.load(f'./BraTS/BraTS2021_Training_Data_2D/BraTS2021_00370/seg/BraTS2021_00370_seg_86.npy')"
   ]
  },
  {
   "cell_type": "code",
   "execution_count": 37,
   "metadata": {},
   "outputs": [
    {
     "data": {
      "text/plain": [
       "<matplotlib.image.AxesImage at 0x322c168d0>"
      ]
     },
     "execution_count": 37,
     "metadata": {},
     "output_type": "execute_result"
    },
    {
     "data": {
      "image/png": "[encoded data removed]",
      "text/plain": [
       "<Figure size 640x480 with 1 Axes>"
      ]
     },
     "metadata": {},
     "output_type": "display_data"
    }
   ],
   "source": [
    "plt.imshow(preds[550])"
   ]
  },
  {
   "cell_type": "code",
   "execution_count": 38,
   "metadata": {},
   "outputs": [
    {
     "data": {
      "text/plain": [
       "<matplotlib.image.AxesImage at 0x333dc5150>"
      ]
     },
     "execution_count": 38,
     "metadata": {},
     "output_type": "execute_result"
    },
    {
     "data": {
      "image/png": "[encoded data removed]",
      "text/plain": [
       "<Figure size 640x480 with 1 Axes>"
      ]
     },
     "metadata": {},
     "output_type": "display_data"
    }
   ],
   "source": [
    "plt.imshow(labels[550])"
   ]
  },
  {
   "cell_type": "code",
   "execution_count": 70,
   "metadata": {},
   "outputs": [],
   "source": [
    "tmp = preds[:10,:,:]\n",
    "lmp = labels[:10,:,:]"
   ]
  },
  {
   "cell_type": "code",
   "execution_count": 71,
   "metadata": {},
   "outputs": [
    {
     "name": "stdout",
     "output_type": "stream",
     "text": [
      "torch.Size([10, 64, 64]) torch.Size([10, 64, 64])\n"
     ]
    }
   ],
   "source": [
    "print(tmp.shape, lmp.shape)"
   ]
  },
  {
   "cell_type": "code",
   "execution_count": 82,
   "metadata": {},
   "outputs": [
    {
     "data": {
      "text/plain": [
       "0.9934326410293579"
      ]
     },
     "execution_count": 82,
     "metadata": {},
     "output_type": "execute_result"
    }
   ],
   "source": [
    "torch.mean(tmp.eq(lmp).sum(dim = (1,2))/ (64**2)).item()"
   ]
  },
  {
   "cell_type": "code",
   "execution_count": 61,
   "metadata": {},
   "outputs": [],
   "source": [
    "def dice_singular(pred, label):\n",
    "    return torch.sum(pred * label).item() / np.prod(label.shape)"
   ]
  },
  {
   "cell_type": "code",
   "execution_count": 62,
   "metadata": {},
   "outputs": [
    {
     "data": {
      "text/plain": [
       "0.055419921875"
      ]
     },
     "execution_count": 62,
     "metadata": {},
     "output_type": "execute_result"
    }
   ],
   "source": [
    "dice_singular(preds[550], labels[550])"
   ]
  },
  {
   "cell_type": "code",
   "execution_count": 63,
   "metadata": {},
   "outputs": [
    {
     "data": {
      "text/plain": [
       "0.99072265625"
      ]
     },
     "execution_count": 63,
     "metadata": {},
     "output_type": "execute_result"
    }
   ],
   "source": [
    "preds[550].eq(labels[550]).sum().item() / np.prod(labels[550].shape)"
   ]
  },
  {
   "cell_type": "code",
   "execution_count": 66,
   "metadata": {},
   "outputs": [
    {
     "data": {
      "text/plain": [
       "tensor(0.9008)"
      ]
     },
     "execution_count": 66,
     "metadata": {},
     "output_type": "execute_result"
    }
   ],
   "source": [
    "# % of true positives which also are predicted as positives\n",
    "torch.sum(preds[550] * labels[550]).item() / torch.sum(labels[550])"
   ]
  },
  {
   "cell_type": "code",
   "execution_count": 42,
   "metadata": {},
   "outputs": [
    {
     "data": {
      "text/plain": [
       "<matplotlib.image.AxesImage at 0x333a89550>"
      ]
     },
     "execution_count": 42,
     "metadata": {},
     "output_type": "execute_result"
    },
    {
     "data": {
      "image/png": "[encoded data removed]",
      "text/plain": [
       "<Figure size 640x480 with 1 Axes>"
      ]
     },
     "metadata": {},
     "output_type": "display_data"
    }
   ],
   "source": [
    "plt.imshow(np.load(f'./BraTS/BraTS2021_Training_Data_2D/BraTS2021_00370/seg/Brats2021_00370_seg_86.npy'))"
   ]
  },
  {
   "cell_type": "code",
   "execution_count": 40,
   "metadata": {},
   "outputs": [
    {
     "data": {
      "text/plain": [
       "<matplotlib.image.AxesImage at 0x32780b790>"
      ]
     },
     "execution_count": 40,
     "metadata": {},
     "output_type": "execute_result"
    },
    {
     "data": {
      "image/png": "[encoded data removed]",
      "text/plain": [
       "<Figure size 640x480 with 1 Axes>"
      ]
     },
     "metadata": {},
     "output_type": "display_data"
    }
   ],
   "source": [
    "plt.imshow(np.load(f'./BraTS/BraTS2021_Training_Data_2D/BraTS2021_00370/flair/Brats2021_00370_flair_85.npy'))"
   ]
  },
  {
   "cell_type": "code",
   "execution_count": 47,
   "metadata": {},
   "outputs": [
    {
     "name": "stdout",
     "output_type": "stream",
     "text": [
      "torch.Size([19530, 64, 64]) torch.Size([19530, 64, 64])\n"
     ]
    }
   ],
   "source": [
    "print(labels.shape, preds.shape)"
   ]
  },
  {
   "cell_type": "code",
   "execution_count": null,
   "metadata": {},
   "outputs": [],
   "source": [
    "test_indices # List to find image and layer id"
   ]
  },
  {
   "cell_type": "code",
   "execution_count": 24,
   "metadata": {},
   "outputs": [],
   "source": [
    "def index_converter(index):\n",
    "    return index // 155, index % 155 # image_idx, layer_idx"
   ]
  },
  {
   "cell_type": "code",
   "execution_count": 24,
   "metadata": {},
   "outputs": [
    {
     "name": "stdout",
     "output_type": "stream",
     "text": [
      "1200 0\n",
      "BraTS2021_01200 BraTS2021_01200_capred_0\n",
      "1200 1\n",
      "BraTS2021_01200 BraTS2021_01200_capred_1\n",
      "1200 2\n",
      "BraTS2021_01200 BraTS2021_01200_capred_2\n",
      "1200 3\n",
      "BraTS2021_01200 BraTS2021_01200_capred_3\n",
      "1200 4\n",
      "BraTS2021_01200 BraTS2021_01200_capred_4\n",
      "1200 5\n",
      "BraTS2021_01200 BraTS2021_01200_capred_5\n",
      "1200 6\n",
      "BraTS2021_01200 BraTS2021_01200_capred_6\n",
      "1200 7\n",
      "BraTS2021_01200 BraTS2021_01200_capred_7\n",
      "1200 8\n",
      "BraTS2021_01200 BraTS2021_01200_capred_8\n",
      "1200 9\n",
      "BraTS2021_01200 BraTS2021_01200_capred_9\n"
     ]
    }
   ],
   "source": [
    "for i in range(10):\n",
    "    image_idx, layer_idx = index_converter(test_indices[i])\n",
    "    print(image_idx, layer_idx)\n",
    "    print('BraTS2021_' + str(image_idx).zfill(5), 'BraTS2021_' + str(image_idx).zfill(5) + '_capred_' + str(layer_idx) + '.npy') # BraTS2021_00000_flair_1.npy\n",
    "    # np.save(loc, np)"
   ]
  },
  {
   "cell_type": "code",
   "execution_count": null,
   "metadata": {},
   "outputs": [],
   "source": [
    "os.makedirs('./BraTS/CA_Pred', exist_ok=True)\n",
    "\n",
    "# CA_Pred\n",
    "#  |__ Test Image 1\n",
    "#       |__ Layer 1\n",
    "#       |__ Layer 2\n",
    "#  |__ Test Image 2\n",
    "#       |__ Layer 1\n",
    "#       |__ Layer 2\n",
    "\n"
   ]
  },
  {
   "cell_type": "code",
   "execution_count": null,
   "metadata": {},
   "outputs": [],
   "source": []
  }
 ],
 "metadata": {
  "kernelspec": {
   "display_name": "Python 3",
   "language": "python",
   "name": "python3"
  },
  "language_info": {
   "codemirror_mode": {
    "name": "ipython",
    "version": 3
   },
   "file_extension": ".py",
   "mimetype": "text/x-python",
   "name": "python",
   "nbconvert_exporter": "python",
   "pygments_lexer": "ipython3",
   "version": "3.11.6"
  }
 },
 "nbformat": 4,
 "nbformat_minor": 2
}
