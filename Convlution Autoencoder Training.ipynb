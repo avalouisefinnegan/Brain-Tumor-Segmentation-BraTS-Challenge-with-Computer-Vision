{
 "cells": [
  {
   "cell_type": "code",
   "execution_count": 1,
   "metadata": {},
   "outputs": [],
   "source": [
    "N_EPOCHS = 40\n",
    "batch_size = 64"
   ]
  },
  {
   "cell_type": "markdown",
   "metadata": {},
   "source": [
    "# Flair"
   ]
  },
  {
   "cell_type": "markdown",
   "metadata": {},
   "source": [
    "## Setup"
   ]
  },
  {
   "cell_type": "code",
   "execution_count": 2,
   "metadata": {},
   "outputs": [],
   "source": [
    "import os, random, time\n",
    "import numpy as np\n",
    "import pandas as pd\n",
    "import nibabel as nib\n",
    "import cv2\n",
    "import matplotlib.pyplot as plt\n",
    "\n",
    "# Pytorch functions\n",
    "import torch\n",
    "# Neural network layers\n",
    "import torch.nn as nn\n",
    "import torch.nn.functional as F\n",
    "# Optimizer\n",
    "import torch.optim as optim\n",
    "from torch.utils.data import Dataset, DataLoader, random_split, Subset\n",
    "# Torchvision library\n",
    "from torchvision import transforms\n",
    "\n",
    "from sklearn.model_selection import train_test_split\n",
    "from sklearn.preprocessing import MinMaxScaler\n",
    "# For results\n",
    "from sklearn.metrics import confusion_matrix\n",
    "from sklearn.metrics import classification_report\n",
    "\n",
    "from torchsummary import summary\n",
    "\n",
    "from utilities import *"
   ]
  },
  {
   "cell_type": "code",
   "execution_count": 3,
   "metadata": {},
   "outputs": [
    {
     "name": "stdout",
     "output_type": "stream",
     "text": [
      "mps\n"
     ]
    }
   ],
   "source": [
    "# Device configuration\n",
    "if torch.cuda.is_available():\n",
    "    device = torch.device('cuda')\n",
    "elif torch.backends.mps.is_available():\n",
    "   device = torch.device('mps')\n",
    "else:\n",
    "    device = torch.device('cpu')\n",
    "\n",
    "# Assuming that we are on a CUDA machine, this should print a CUDA device:\n",
    "print(device)"
   ]
  },
  {
   "cell_type": "code",
   "execution_count": 4,
   "metadata": {},
   "outputs": [],
   "source": [
    "def set_seed(seed, use_cuda = True, use_mps = False):\n",
    "    \"\"\"\n",
    "    Set SEED for PyTorch reproducibility\n",
    "    \"\"\"\n",
    "    random.seed(seed)\n",
    "    np.random.seed(seed)\n",
    "    torch.manual_seed(seed)\n",
    "    if use_cuda:\n",
    "        torch.cuda.manual_seed_all(seed)\n",
    "        torch.cuda.manual_seed(seed)\n",
    "        torch.backends.cudnn.deterministic = True\n",
    "        torch.backends.cudnn.benchmark = False\n",
    "    if use_mps:\n",
    "        torch.mps.manual_seed(seed)\n",
    "\n",
    "SEED = 44\n",
    "\n",
    "USE_SEED = True\n",
    "\n",
    "if USE_SEED:\n",
    "    set_seed(SEED, torch.cuda.is_available(), torch.backends.mps.is_available())"
   ]
  },
  {
   "cell_type": "markdown",
   "metadata": {},
   "source": [
    "## Define Custom Dataset"
   ]
  },
  {
   "cell_type": "code",
   "execution_count": 5,
   "metadata": {},
   "outputs": [],
   "source": [
    "class BraTSDataset_Flair(Dataset):\n",
    "    def __init__(self, image_path = r'./BraTS/BraTS2021_Training_Data_2D', transform=None):\n",
    "        'Initialisation'\n",
    "        self.image_path = image_path\n",
    "        self.folders_name = [folder for folder in os.listdir(self.image_path) if folder != '.DS_Store']\n",
    "        self.transform = transform\n",
    "\n",
    "    def __len__(self):\n",
    "        'Denotes the total number of samples'\n",
    "        return len(self.folders_name) * 155\n",
    "\n",
    "    def __getitem__(self, index):\n",
    "        'Generates one sample of data'\n",
    "\n",
    "        # Determine the image index and the RGB layer\n",
    "        image_idx = index // 155\n",
    "        layer_idx = index % 155\n",
    "\n",
    "        # Select sample\n",
    "        file_name = self.folders_name[image_idx]\n",
    "        \n",
    "        path_img = os.path.join(self.image_path, file_name, 'flair', file_name + '_flair_' + str(layer_idx+1) + '.npy')\n",
    "        image = np.load(path_img).astype(np.float32)\n",
    "\n",
    "        path_label = os.path.join(self.image_path, file_name, 'seg', file_name + '_seg_' + str(layer_idx+1) + '.npy')\n",
    "        label = np.load(path_label)\n",
    "        \n",
    "        if self.transform:\n",
    "            image, label = self.transform([image, label])\n",
    "        return image, label"
   ]
  },
  {
   "cell_type": "code",
   "execution_count": 6,
   "metadata": {},
   "outputs": [],
   "source": [
    "class BinariseLabel(object):\n",
    "    def __call__(self, sample):\n",
    "        image, label = sample\n",
    "        new_label = np.sign(label)\n",
    "        return image, new_label\n",
    "\n",
    "class ToTensor(object):\n",
    "    \"\"\"Convert ndarrays in sample to Tensors.\"\"\"\n",
    "    def __call__(self, sample):\n",
    "        image, label = sample\n",
    "\n",
    "        # numpy image: H x W x C\n",
    "        # torch image: C x H x W\n",
    "        # image = image.transpose((2, 0, 1))\n",
    "        return torch.from_numpy(image), torch.from_numpy(label)"
   ]
  },
  {
   "cell_type": "code",
   "execution_count": 7,
   "metadata": {},
   "outputs": [],
   "source": [
    "dataset_Flair = BraTSDataset_Flair(image_path = r'./BraTS/BraTS2021_Training_Data_2D',\n",
    "                                    transform=transforms.Compose([\n",
    "                                        BinariseLabel(),\n",
    "                                        ToTensor()\n",
    "                                    ]))"
   ]
  },
  {
   "cell_type": "markdown",
   "metadata": {},
   "source": [
    "## Train Test Split"
   ]
  },
  {
   "cell_type": "code",
   "execution_count": 8,
   "metadata": {},
   "outputs": [],
   "source": [
    "dataset_size = int(len(dataset_Flair)/155)\n",
    "dataset_indices = list(range(dataset_size))\n",
    "\n",
    "train_indices, test_indices = train_test_split(dataset_indices, test_size=0.1, random_state=SEED)\n",
    "train_indices, val_indices = train_test_split(train_indices, test_size=0.22, random_state=SEED)\n",
    "\n",
    "tmp_list = [[],[],[]]\n",
    "for i, ind_list in enumerate([train_indices, val_indices, test_indices]):\n",
    "    for ind in ind_list:\n",
    "        for j in range(155):\n",
    "            tmp_list[i].append(ind*155 + j)\n",
    "train_indices, val_indices, test_indices = tmp_list\n",
    "\n",
    "train_subset_Flair = Subset(dataset_Flair, train_indices)\n",
    "val_subset_Flair = Subset(dataset_Flair, val_indices)\n",
    "test_subset_Flair = Subset(dataset_Flair, test_indices)\n",
    "\n",
    "# Create the subset DataLoader\n",
    "train_dataloader_Flair = DataLoader(train_subset_Flair, batch_size=batch_size, shuffle=True)\n",
    "val_dataloader_Flair = DataLoader(val_subset_Flair, batch_size=batch_size, shuffle=True)\n",
    "test_dataloader_Flair = DataLoader(test_subset_Flair, batch_size=batch_size, shuffle=True)\n",
    "# multiprocessing_context=\"forkserver\", persistent_workers=True, num_workers = 4"
   ]
  },
  {
   "cell_type": "markdown",
   "metadata": {},
   "source": [
    "## Define Convlution Autoencoder Structure"
   ]
  },
  {
   "cell_type": "code",
   "execution_count": 9,
   "metadata": {},
   "outputs": [],
   "source": [
    "class ConvAutoencoder(nn.Module):\n",
    "  def __init__(self):\n",
    "    super().__init__()\n",
    "\n",
    "    self.features = nn.Sequential(\n",
    "      ## encoder layers ##\n",
    "      # conv layer (depth from 1 --> 4), 3x3 kernels\n",
    "      # Input 64 x 64\n",
    "      nn.Conv2d(in_channels=1, out_channels=4, kernel_size=3, padding = 'same'), # 64 x 64\n",
    "      nn.ReLU(),\n",
    "      # pooling layer to reduce x-y dims by two; kernel and stride of 2\n",
    "      nn.MaxPool2d(2), ## 32 x 32\n",
    "      # conv layer (depth from 4 --> 8), 4x4 kernels\n",
    "      nn.Conv2d(in_channels=4, out_channels=8, kernel_size=3, padding = 'same'), # 32 x 32\n",
    "      nn.ReLU(),\n",
    "      nn.MaxPool2d(2), # 16 x 16\n",
    "      # conv layer (depth from 8 --> 12), 5x5 kernels\n",
    "      nn.Conv2d(in_channels=8, out_channels=12, kernel_size=3, padding = 'same'), # ( 12 x ) 16 x 16\n",
    "      nn.ReLU(),\n",
    "      \n",
    "      ## decoder layers ##\n",
    "      # add transpose conv layers, with relu activation function\n",
    "      nn.ConvTranspose2d(12, 6, kernel_size = 2, stride=2), # 32 x 32\n",
    "      nn.ReLU(),\n",
    "      nn.ConvTranspose2d(6, 1, kernel_size = 2, stride=2), # 64 x 64\n",
    "      # output layer (with sigmoid for scaling from 0 to 1)\n",
    "      # nn.Sigmoid()\n",
    "    )\n",
    "    \n",
    "  def forward(self, x):\n",
    "    x = x.view(int(np.prod(x.shape)/(64**2)), 1, 64, 64)\n",
    "    x = self.features(x)\n",
    "    # x = x.view(x.shape[0], -1)\n",
    "    # x = torch.flatten(x, start_dim=1)\n",
    "    return x"
   ]
  },
  {
   "cell_type": "code",
   "execution_count": 10,
   "metadata": {},
   "outputs": [
    {
     "name": "stdout",
     "output_type": "stream",
     "text": [
      "The model has 1,531 trainable parameters.\n"
     ]
    }
   ],
   "source": [
    "model_Flair = ConvAutoencoder().to(device)\n",
    "\n",
    "print(f\"The model has {count_parameters(model_Flair):,} trainable parameters.\")"
   ]
  },
  {
   "cell_type": "markdown",
   "metadata": {},
   "source": [
    "## Loss function and Optimisation Methods"
   ]
  },
  {
   "cell_type": "code",
   "execution_count": 11,
   "metadata": {},
   "outputs": [],
   "source": [
    "# Loss\n",
    "# criterion = nn.CrossEntropyLoss() # Softmax + CrossEntropy\n",
    "# criterion = nn.BCELoss()\n",
    "criterion = torch.nn.BCEWithLogitsLoss()\n",
    "criterion = criterion.to(device)\n",
    "\n",
    "# Optim\n",
    "optimizer = optim.Adam(model_Flair.parameters(), lr=1e-4, weight_decay=1e-5)"
   ]
  },
  {
   "cell_type": "markdown",
   "metadata": {},
   "source": [
    "## Model Training"
   ]
  },
  {
   "cell_type": "code",
   "execution_count": 12,
   "metadata": {},
   "outputs": [
    {
     "name": "stdout",
     "output_type": "stream",
     "text": [
      "100.0 % loaded in this epoch for evaluation.\n",
      "Epoch: 1/10 -- Epoch Time: 148.38 s\n",
      "---------------------------------\n",
      "Train -- Loss: 0.699, Acc: 32.83%\n",
      "Val -- Loss: 0.693, Acc: 26.39%\n",
      "100.0 % loaded in this epoch for evaluation.\n",
      "Epoch: 2/10 -- Epoch Time: 156.35 s\n",
      "---------------------------------\n",
      "Train -- Loss: 0.693, Acc: 26.33%\n",
      "Val -- Loss: 0.693, Acc: 26.39%\n",
      "100.0 % loaded in this epoch for evaluation.\n",
      "Epoch: 3/10 -- Epoch Time: 156.82 s\n",
      "---------------------------------\n",
      "Train -- Loss: 0.693, Acc: 34.87%\n",
      "Val -- Loss: 0.693, Acc: 73.61%\n",
      "100.0 % loaded in this epoch for evaluation.\n",
      "Epoch: 4/10 -- Epoch Time: 155.24 s\n",
      "---------------------------------\n",
      "Train -- Loss: 0.693, Acc: 88.16%\n",
      "Val -- Loss: 0.693, Acc: 97.22%\n",
      "100.0 % loaded in this epoch for evaluation.\n",
      "Epoch: 5/10 -- Epoch Time: 154.98 s\n",
      "---------------------------------\n",
      "Train -- Loss: 0.693, Acc: 97.33%\n",
      "Val -- Loss: 0.693, Acc: 97.22%\n",
      "100.0 % loaded in this epoch for evaluation.\n",
      "Epoch: 6/10 -- Epoch Time: 154.93 s\n",
      "---------------------------------\n",
      "Train -- Loss: 0.693, Acc: 97.33%\n",
      "Val -- Loss: 0.693, Acc: 97.22%\n",
      "100.0 % loaded in this epoch for evaluation.\n",
      "Epoch: 7/10 -- Epoch Time: 155.47 s\n",
      "---------------------------------\n",
      "Train -- Loss: 0.693, Acc: 97.33%\n",
      "Val -- Loss: 0.693, Acc: 97.22%\n",
      "100.0 % loaded in this epoch for evaluation.\n",
      "Epoch: 8/10 -- Epoch Time: 157.87 s\n",
      "---------------------------------\n",
      "Train -- Loss: 0.693, Acc: 97.33%\n",
      "Val -- Loss: 0.693, Acc: 97.22%\n",
      "100.0 % loaded in this epoch for evaluation.\n",
      "Epoch: 9/10 -- Epoch Time: 156.37 s\n",
      "---------------------------------\n",
      "Train -- Loss: 0.693, Acc: 97.33%\n",
      "Val -- Loss: 0.693, Acc: 97.22%\n",
      "100.0 % loaded in this epoch for evaluation.\n",
      "Epoch: 10/10 -- Epoch Time: 160.10 s\n",
      "---------------------------------\n",
      "Train -- Loss: 0.693, Acc: 97.33%\n",
      "Val -- Loss: 0.693, Acc: 97.22%\n"
     ]
    }
   ],
   "source": [
    "train_losses_Flair, train_accs_Flair, valid_losses_Flair, valid_accs_Flair, train_losses_Flair_epochs, train_accs_Flair_epochs, valid_losses_Flair_epochs, valid_accs_Flair_epochs = model_training(N_EPOCHS,\n",
    "                                                                                                                                                                                                    model_Flair,\n",
    "                                                                                                                                                                                                    train_dataloader_Flair,\n",
    "                                                                                                                                                                                                    val_dataloader_Flair,\n",
    "                                                                                                                                                                                                    optimizer,\n",
    "                                                                                                                                                                                                    criterion,\n",
    "                                                                                                                                                                                                    device,\n",
    "                                                                                                                                                                                                    './models/CA_Flair.pt')"
   ]
  },
  {
   "cell_type": "markdown",
   "metadata": {},
   "source": [
    "# Repeat for T1"
   ]
  },
  {
   "cell_type": "code",
   "execution_count": 13,
   "metadata": {},
   "outputs": [],
   "source": [
    "class BraTSDataset_T1(Dataset):\n",
    "    def __init__(self, image_path = r'./BraTS/BraTS2021_Training_Data_2D', transform=None):\n",
    "        'Initialisation'\n",
    "        self.image_path = image_path\n",
    "        self.folders_name = [folder for folder in os.listdir(self.image_path) if folder != '.DS_Store']\n",
    "        self.transform = transform\n",
    "\n",
    "    def __len__(self):\n",
    "        'Denotes the total number of samples'\n",
    "        return len(self.folders_name) * 155\n",
    "\n",
    "    def __getitem__(self, index):\n",
    "        'Generates one sample of data'\n",
    "\n",
    "        # Determine the image index and the RGB layer\n",
    "        image_idx = index // 155\n",
    "        layer_idx = index % 155\n",
    "\n",
    "        # Select sample\n",
    "        file_name = self.folders_name[image_idx]\n",
    "        \n",
    "        path_img = os.path.join(self.image_path, file_name, 't1', file_name + '_t1_' + str(layer_idx+1) + '.npy')\n",
    "        image = np.load(path_img).astype(np.float32)\n",
    "\n",
    "        path_label = os.path.join(self.image_path, file_name, 'seg', file_name + '_seg_' + str(layer_idx+1) + '.npy')\n",
    "        label = np.load(path_label)\n",
    "        \n",
    "        if self.transform:\n",
    "            image, label = self.transform([image, label])\n",
    "        return image, label"
   ]
  },
  {
   "cell_type": "code",
   "execution_count": 14,
   "metadata": {},
   "outputs": [],
   "source": [
    "dataset_T1 = BraTSDataset_T1(image_path = r'./BraTS/BraTS2021_Training_Data_2D',\n",
    "                                    transform=transforms.Compose([\n",
    "                                        BinariseLabel(),\n",
    "                                        ToTensor()\n",
    "                                    ]))"
   ]
  },
  {
   "cell_type": "code",
   "execution_count": null,
   "metadata": {},
   "outputs": [],
   "source": [
    "if USE_SEED:\n",
    "    set_seed(SEED, torch.cuda.is_available(), torch.backends.mps.is_available())"
   ]
  },
  {
   "cell_type": "code",
   "execution_count": 15,
   "metadata": {},
   "outputs": [],
   "source": [
    "train_subset_T1 = Subset(dataset_T1, train_indices)\n",
    "val_subset_T1 = Subset(dataset_T1, val_indices)\n",
    "test_subset_T1 = Subset(dataset_T1, test_indices)\n",
    "\n",
    "# Create the subset DataLoader\n",
    "train_dataloader_T1 = DataLoader(train_subset_T1, batch_size=batch_size, shuffle=True)\n",
    "val_dataloader_T1 = DataLoader(val_subset_T1, batch_size=batch_size, shuffle=True)\n",
    "test_dataloader_T1 = DataLoader(test_subset_T1, batch_size=batch_size, shuffle=True)"
   ]
  },
  {
   "cell_type": "code",
   "execution_count": 16,
   "metadata": {},
   "outputs": [],
   "source": [
    "model_T1 = ConvAutoencoder().to(device)\n",
    "criterion = torch.nn.BCEWithLogitsLoss()\n",
    "criterion = criterion.to(device)\n",
    "optimizer = optim.Adam(model_T1.parameters(), lr=1e-4, weight_decay=1e-5)"
   ]
  },
  {
   "cell_type": "code",
   "execution_count": 17,
   "metadata": {},
   "outputs": [],
   "source": [
    "# # Reset Model Parameters\n",
    "\n",
    "# for layer in model.children():\n",
    "#    if hasattr(layer, 'reset_parameters'):\n",
    "#        layer.reset_parameters()\n",
    "\n",
    "# optimizer = optim.Adam(model.parameters(), lr=1e-4, weight_decay=1e-5)"
   ]
  },
  {
   "cell_type": "code",
   "execution_count": 18,
   "metadata": {},
   "outputs": [
    {
     "name": "stdout",
     "output_type": "stream",
     "text": [
      "100.0 % loaded in this epoch for evaluation.\n",
      "Epoch: 1/10 -- Epoch Time: 187.92 s\n",
      "---------------------------------\n",
      "Train -- Loss: 0.585, Acc: 97.33%\n",
      "Val -- Loss: 0.622, Acc: 97.22%\n",
      "100.0 % loaded in this epoch for evaluation.\n",
      "Epoch: 2/10 -- Epoch Time: 179.87 s\n",
      "---------------------------------\n",
      "Train -- Loss: 0.651, Acc: 97.33%\n",
      "Val -- Loss: 0.675, Acc: 97.22%\n",
      "100.0 % loaded in this epoch for evaluation.\n",
      "Epoch: 3/10 -- Epoch Time: 180.00 s\n",
      "---------------------------------\n",
      "Train -- Loss: 0.687, Acc: 97.33%\n",
      "Val -- Loss: 0.693, Acc: 97.22%\n",
      "100.0 % loaded in this epoch for evaluation.\n",
      "Epoch: 4/10 -- Epoch Time: 178.39 s\n",
      "---------------------------------\n",
      "Train -- Loss: 0.693, Acc: 97.33%\n",
      "Val -- Loss: 0.693, Acc: 97.22%\n",
      "100.0 % loaded in this epoch for evaluation.\n",
      "Epoch: 5/10 -- Epoch Time: 177.42 s\n",
      "---------------------------------\n",
      "Train -- Loss: 0.693, Acc: 97.33%\n",
      "Val -- Loss: 0.693, Acc: 97.22%\n",
      "100.0 % loaded in this epoch for evaluation.\n",
      "Epoch: 6/10 -- Epoch Time: 178.42 s\n",
      "---------------------------------\n",
      "Train -- Loss: 0.693, Acc: 26.95%\n",
      "Val -- Loss: 0.693, Acc: 2.78%\n",
      "100.0 % loaded in this epoch for evaluation.\n",
      "Epoch: 7/10 -- Epoch Time: 180.15 s\n",
      "---------------------------------\n",
      "Train -- Loss: 0.693, Acc: 2.67%\n",
      "Val -- Loss: 0.693, Acc: 2.78%\n",
      "100.0 % loaded in this epoch for evaluation.\n",
      "Epoch: 8/10 -- Epoch Time: 180.81 s\n",
      "---------------------------------\n",
      "Train -- Loss: 0.693, Acc: 2.67%\n",
      "Val -- Loss: 0.693, Acc: 2.78%\n",
      "100.0 % loaded in this epoch for evaluation.\n",
      "Epoch: 9/10 -- Epoch Time: 179.06 s\n",
      "---------------------------------\n",
      "Train -- Loss: 0.693, Acc: 2.67%\n",
      "Val -- Loss: 0.693, Acc: 2.78%\n",
      "100.0 % loaded in this epoch for evaluation.\n",
      "Epoch: 10/10 -- Epoch Time: 180.24 s\n",
      "---------------------------------\n",
      "Train -- Loss: 0.693, Acc: 2.67%\n",
      "Val -- Loss: 0.693, Acc: 2.78%\n"
     ]
    }
   ],
   "source": [
    "train_losses_T1, train_accs_T1, valid_losses_T1, valid_accs_T1, train_losses_T1_epochs, train_accs_T1_epochs, valid_losses_T1_epochs, valid_accs_T1_epochs = model_training(N_EPOCHS,\n",
    "                                                                                                                                                                            model_T1,\n",
    "                                                                                                                                                                            train_dataloader_T1,\n",
    "                                                                                                                                                                            val_dataloader_T1,\n",
    "                                                                                                                                                                            optimizer,\n",
    "                                                                                                                                                                            criterion,\n",
    "                                                                                                                                                                            device,\n",
    "                                                                                                                                                                            './models/CA_T1.pt')"
   ]
  },
  {
   "cell_type": "markdown",
   "metadata": {},
   "source": [
    "# T1CE"
   ]
  },
  {
   "cell_type": "code",
   "execution_count": 19,
   "metadata": {},
   "outputs": [],
   "source": [
    "class BraTSDataset_T1CE(Dataset):\n",
    "    def __init__(self, image_path = r'./BraTS/BraTS2021_Training_Data_2D', transform=None):\n",
    "        'Initialisation'\n",
    "        self.image_path = image_path\n",
    "        self.folders_name = [folder for folder in os.listdir(self.image_path) if folder != '.DS_Store']\n",
    "        self.transform = transform\n",
    "\n",
    "    def __len__(self):\n",
    "        'Denotes the total number of samples'\n",
    "        return len(self.folders_name) * 155\n",
    "\n",
    "    def __getitem__(self, index):\n",
    "        'Generates one sample of data'\n",
    "\n",
    "        # Determine the image index and the RGB layer\n",
    "        image_idx = index // 155\n",
    "        layer_idx = index % 155\n",
    "\n",
    "        # Select sample\n",
    "        file_name = self.folders_name[image_idx]\n",
    "        \n",
    "        path_img = os.path.join(self.image_path, file_name, 't1ce', file_name + '_t1ce_' + str(layer_idx+1) + '.npy')\n",
    "        image = np.load(path_img).astype(np.float32)\n",
    "\n",
    "        path_label = os.path.join(self.image_path, file_name, 'seg', file_name + '_seg_' + str(layer_idx+1) + '.npy')\n",
    "        label = np.load(path_label)\n",
    "        \n",
    "        if self.transform:\n",
    "            image, label = self.transform([image, label])\n",
    "        return image, label"
   ]
  },
  {
   "cell_type": "code",
   "execution_count": 20,
   "metadata": {},
   "outputs": [],
   "source": [
    "dataset_T1CE = BraTSDataset_T1CE(image_path = r'./BraTS/BraTS2021_Training_Data_2D',\n",
    "                                    transform=transforms.Compose([\n",
    "                                        BinariseLabel(),\n",
    "                                        ToTensor()\n",
    "                                    ]))"
   ]
  },
  {
   "cell_type": "code",
   "execution_count": null,
   "metadata": {},
   "outputs": [],
   "source": [
    "if USE_SEED:\n",
    "    set_seed(SEED, torch.cuda.is_available(), torch.backends.mps.is_available())"
   ]
  },
  {
   "cell_type": "code",
   "execution_count": 21,
   "metadata": {},
   "outputs": [],
   "source": [
    "train_subset_T1CE = Subset(dataset_T1CE, train_indices)\n",
    "val_subset_T1CE = Subset(dataset_T1CE, val_indices)\n",
    "test_subset_T1CE = Subset(dataset_T1CE, test_indices)\n",
    "\n",
    "# Create the subset DataLoader\n",
    "train_dataloader_T1CE = DataLoader(train_subset_T1CE, batch_size=batch_size, shuffle=True)\n",
    "val_dataloader_T1CE = DataLoader(val_subset_T1CE, batch_size=batch_size, shuffle=True)\n",
    "test_dataloader_T1CE = DataLoader(test_subset_T1CE, batch_size=batch_size, shuffle=True)"
   ]
  },
  {
   "cell_type": "code",
   "execution_count": 22,
   "metadata": {},
   "outputs": [],
   "source": [
    "model_T1ce = ConvAutoencoder().to(device)\n",
    "criterion = torch.nn.BCEWithLogitsLoss()\n",
    "criterion = criterion.to(device)\n",
    "optimizer = optim.Adam(model_T1ce.parameters(), lr=1e-4, weight_decay=1e-5)"
   ]
  },
  {
   "cell_type": "code",
   "execution_count": 23,
   "metadata": {},
   "outputs": [],
   "source": [
    "# # Reset Model Parameters\n",
    "\n",
    "# for layer in model.children():\n",
    "#    if hasattr(layer, 'reset_parameters'):\n",
    "#        layer.reset_parameters()\n",
    "\n",
    "# optimizer = optim.Adam(model.parameters(), lr=1e-4, weight_decay=1e-5)"
   ]
  },
  {
   "cell_type": "code",
   "execution_count": 24,
   "metadata": {},
   "outputs": [
    {
     "name": "stdout",
     "output_type": "stream",
     "text": [
      "100.0 % loaded in this epoch for evaluation.\n",
      "Epoch: 1/10 -- Epoch Time: 184.90 s\n",
      "---------------------------------\n",
      "Train -- Loss: 0.688, Acc: 50.15%\n",
      "Val -- Loss: 0.692, Acc: 50.00%\n",
      "100.0 % loaded in this epoch for evaluation.\n",
      "Epoch: 2/10 -- Epoch Time: 179.44 s\n",
      "---------------------------------\n",
      "Train -- Loss: 0.693, Acc: 50.00%\n",
      "Val -- Loss: 0.693, Acc: 50.00%\n",
      "100.0 % loaded in this epoch for evaluation.\n",
      "Epoch: 3/10 -- Epoch Time: 180.95 s\n",
      "---------------------------------\n",
      "Train -- Loss: 0.693, Acc: 50.00%\n",
      "Val -- Loss: 0.693, Acc: 50.00%\n",
      "100.0 % loaded in this epoch for evaluation.\n",
      "Epoch: 4/10 -- Epoch Time: 181.22 s\n",
      "---------------------------------\n",
      "Train -- Loss: 0.693, Acc: 84.93%\n",
      "Val -- Loss: 0.693, Acc: 97.22%\n",
      "100.0 % loaded in this epoch for evaluation.\n",
      "Epoch: 5/10 -- Epoch Time: 182.68 s\n",
      "---------------------------------\n",
      "Train -- Loss: 0.693, Acc: 97.33%\n",
      "Val -- Loss: 0.693, Acc: 97.22%\n",
      "100.0 % loaded in this epoch for evaluation.\n",
      "Epoch: 6/10 -- Epoch Time: 180.69 s\n",
      "---------------------------------\n",
      "Train -- Loss: 0.693, Acc: 97.33%\n",
      "Val -- Loss: 0.693, Acc: 97.22%\n",
      "100.0 % loaded in this epoch for evaluation.\n",
      "Epoch: 7/10 -- Epoch Time: 182.73 s\n",
      "---------------------------------\n",
      "Train -- Loss: 0.693, Acc: 97.33%\n",
      "Val -- Loss: 0.693, Acc: 97.22%\n",
      "100.0 % loaded in this epoch for evaluation.\n",
      "Epoch: 8/10 -- Epoch Time: 181.85 s\n",
      "---------------------------------\n",
      "Train -- Loss: 0.693, Acc: 97.33%\n",
      "Val -- Loss: 0.693, Acc: 97.22%\n",
      "100.0 % loaded in this epoch for evaluation.\n",
      "Epoch: 9/10 -- Epoch Time: 180.49 s\n",
      "---------------------------------\n",
      "Train -- Loss: 0.693, Acc: 97.33%\n",
      "Val -- Loss: 0.693, Acc: 97.22%\n",
      "100.0 % loaded in this epoch for evaluation.\n",
      "Epoch: 10/10 -- Epoch Time: 184.20 s\n",
      "---------------------------------\n",
      "Train -- Loss: 0.693, Acc: 97.33%\n",
      "Val -- Loss: 0.693, Acc: 97.22%\n"
     ]
    }
   ],
   "source": [
    "train_losses_T1CE, train_accs_T1CE, valid_losses_T1CE, valid_accs_T1CE, train_losses_T1CE_epochs, train_accs_T1CE_epochs, valid_losses_T1CE_epochs, valid_accs_T1CE_epochs = model_training(N_EPOCHS,\n",
    "                                                                                                                                                                                            model_T1ce,\n",
    "                                                                                                                                                                                            train_dataloader_T1CE,\n",
    "                                                                                                                                                                                            val_dataloader_T1CE,\n",
    "                                                                                                                                                                                            optimizer,\n",
    "                                                                                                                                                                                            criterion,\n",
    "                                                                                                                                                                                            device,\n",
    "                                                                                                                                                                                            './models/CA_T1CE.pt')"
   ]
  },
  {
   "cell_type": "markdown",
   "metadata": {},
   "source": [
    "# T2"
   ]
  },
  {
   "cell_type": "code",
   "execution_count": 25,
   "metadata": {},
   "outputs": [],
   "source": [
    "class BraTSDataset_T2(Dataset):\n",
    "    def __init__(self, image_path = r'./BraTS/BraTS2021_Training_Data_2D', transform=None):\n",
    "        'Initialisation'\n",
    "        self.image_path = image_path\n",
    "        self.folders_name = [folder for folder in os.listdir(self.image_path) if folder != '.DS_Store']\n",
    "        self.transform = transform\n",
    "\n",
    "    def __len__(self):\n",
    "        'Denotes the total number of samples'\n",
    "        return len(self.folders_name) * 155\n",
    "\n",
    "    def __getitem__(self, index):\n",
    "        'Generates one sample of data'\n",
    "\n",
    "        # Determine the image index and the RGB layer\n",
    "        image_idx = index // 155\n",
    "        layer_idx = index % 155\n",
    "\n",
    "        # Select sample\n",
    "        file_name = self.folders_name[image_idx]\n",
    "        \n",
    "        path_img = os.path.join(self.image_path, file_name, 't2', file_name + '_t2_' + str(layer_idx+1) + '.npy')\n",
    "        image = np.load(path_img).astype(np.float32)\n",
    "\n",
    "        path_label = os.path.join(self.image_path, file_name, 'seg', file_name + '_seg_' + str(layer_idx+1) + '.npy')\n",
    "        label = np.load(path_label)\n",
    "        \n",
    "        if self.transform:\n",
    "            image, label = self.transform([image, label])\n",
    "        return image, label"
   ]
  },
  {
   "cell_type": "code",
   "execution_count": 26,
   "metadata": {},
   "outputs": [],
   "source": [
    "dataset_T2 = BraTSDataset_T2(image_path = r'./BraTS/BraTS2021_Training_Data_2D',\n",
    "                                    transform=transforms.Compose([\n",
    "                                        BinariseLabel(),\n",
    "                                        ToTensor()\n",
    "                                    ]))"
   ]
  },
  {
   "cell_type": "code",
   "execution_count": null,
   "metadata": {},
   "outputs": [],
   "source": [
    "if USE_SEED:\n",
    "    set_seed(SEED, torch.cuda.is_available(), torch.backends.mps.is_available())"
   ]
  },
  {
   "cell_type": "code",
   "execution_count": 27,
   "metadata": {},
   "outputs": [],
   "source": [
    "train_subset_T2 = Subset(dataset_T2, train_indices)\n",
    "val_subset_T2 = Subset(dataset_T2, val_indices)\n",
    "test_subset_T2 = Subset(dataset_T2, test_indices)\n",
    "\n",
    "# Create the subset DataLoader\n",
    "train_dataloader_T2 = DataLoader(train_subset_T2, batch_size=batch_size, shuffle=True)\n",
    "val_dataloader_T2 = DataLoader(val_subset_T2, batch_size=batch_size, shuffle=True)\n",
    "test_dataloader_T2 = DataLoader(test_subset_T2, batch_size=batch_size, shuffle=True)"
   ]
  },
  {
   "cell_type": "code",
   "execution_count": 28,
   "metadata": {},
   "outputs": [],
   "source": [
    "model_T2 = ConvAutoencoder().to(device)\n",
    "criterion = torch.nn.BCEWithLogitsLoss()\n",
    "criterion = criterion.to(device)\n",
    "optimizer = optim.Adam(model_T2.parameters(), lr=1e-4, weight_decay=1e-5)"
   ]
  },
  {
   "cell_type": "code",
   "execution_count": 29,
   "metadata": {},
   "outputs": [],
   "source": [
    "# # Reset Model Parameters\n",
    "\n",
    "# for layer in model.children():\n",
    "#    if hasattr(layer, 'reset_parameters'):\n",
    "#        layer.reset_parameters()\n",
    "\n",
    "# optimizer = optim.Adam(model.parameters(), lr=1e-4, weight_decay=1e-5)"
   ]
  },
  {
   "cell_type": "code",
   "execution_count": 30,
   "metadata": {},
   "outputs": [
    {
     "name": "stdout",
     "output_type": "stream",
     "text": [
      "100.0 % loaded in this epoch for evaluation.\n",
      "Epoch: 1/10 -- Epoch Time: 185.14 s\n",
      "---------------------------------\n",
      "Train -- Loss: 0.560, Acc: 97.33%\n",
      "Val -- Loss: 0.590, Acc: 97.22%\n",
      "100.0 % loaded in this epoch for evaluation.\n",
      "Epoch: 2/10 -- Epoch Time: 177.68 s\n",
      "---------------------------------\n",
      "Train -- Loss: 0.622, Acc: 97.33%\n",
      "Val -- Loss: 0.652, Acc: 97.22%\n",
      "100.0 % loaded in this epoch for evaluation.\n",
      "Epoch: 3/10 -- Epoch Time: 179.63 s\n",
      "---------------------------------\n",
      "Train -- Loss: 0.673, Acc: 97.33%\n",
      "Val -- Loss: 0.688, Acc: 97.22%\n",
      "100.0 % loaded in this epoch for evaluation.\n",
      "Epoch: 4/10 -- Epoch Time: 179.15 s\n",
      "---------------------------------\n",
      "Train -- Loss: 0.692, Acc: 97.33%\n",
      "Val -- Loss: 0.693, Acc: 97.22%\n",
      "100.0 % loaded in this epoch for evaluation.\n",
      "Epoch: 5/10 -- Epoch Time: 176.73 s\n",
      "---------------------------------\n",
      "Train -- Loss: 0.693, Acc: 97.33%\n",
      "Val -- Loss: 0.693, Acc: 97.22%\n",
      "100.0 % loaded in this epoch for evaluation.\n",
      "Epoch: 6/10 -- Epoch Time: 179.23 s\n",
      "---------------------------------\n",
      "Train -- Loss: 0.693, Acc: 78.57%\n",
      "Val -- Loss: 0.693, Acc: 2.78%\n",
      "100.0 % loaded in this epoch for evaluation.\n",
      "Epoch: 7/10 -- Epoch Time: 180.36 s\n",
      "---------------------------------\n",
      "Train -- Loss: 0.693, Acc: 2.67%\n",
      "Val -- Loss: 0.693, Acc: 2.78%\n",
      "100.0 % loaded in this epoch for evaluation.\n",
      "Epoch: 8/10 -- Epoch Time: 179.61 s\n",
      "---------------------------------\n",
      "Train -- Loss: 0.693, Acc: 2.67%\n",
      "Val -- Loss: 0.693, Acc: 2.78%\n",
      "100.0 % loaded in this epoch for evaluation.\n",
      "Epoch: 9/10 -- Epoch Time: 180.09 s\n",
      "---------------------------------\n",
      "Train -- Loss: 0.693, Acc: 2.67%\n",
      "Val -- Loss: 0.693, Acc: 2.78%\n",
      "100.0 % loaded in this epoch for evaluation.\n",
      "Epoch: 10/10 -- Epoch Time: 179.50 s\n",
      "---------------------------------\n",
      "Train -- Loss: 0.693, Acc: 2.67%\n",
      "Val -- Loss: 0.693, Acc: 2.78%\n"
     ]
    }
   ],
   "source": [
    "train_losses_T2, train_accs_T2, valid_losses_T2, valid_accs_T2, train_losses_T2_epochs, train_accs_T2_epochs, valid_losses_T2_epochs, valid_accs_T2_epochs = model_training(N_EPOCHS,\n",
    "                                                                                                                                                                            model_T2,\n",
    "                                                                                                                                                                            train_dataloader_T2,\n",
    "                                                                                                                                                                            val_dataloader_T2,\n",
    "                                                                                                                                                                            optimizer,\n",
    "                                                                                                                                                                            criterion,\n",
    "                                                                                                                                                                            device,\n",
    "                                                                                                                                                                            './models/CA_T2.pt')"
   ]
  },
  {
   "cell_type": "markdown",
   "metadata": {},
   "source": [
    "## Save train, val and test indices, losses and accuracies"
   ]
  },
  {
   "cell_type": "code",
   "execution_count": 31,
   "metadata": {},
   "outputs": [],
   "source": [
    "os.makedirs('./results', exist_ok=True)\n",
    "for scan_type in ['Flair', 'T1', 'T1CE', 'T2']:\n",
    "    csv_name = f'./results/CA_{scan_type}.csv'\n",
    "    pd.DataFrame({\n",
    "        'train_losses': eval(f'train_losses_{scan_type}'),\n",
    "        'train_accs': eval(f'train_accs_{scan_type}'),\n",
    "        'valid_losses': eval(f'valid_losses_{scan_type}'),\n",
    "        'valid_accs': eval(f'valid_accs_{scan_type}')\n",
    "    }).to_csv(csv_name, index=False)\n"
   ]
  },
  {
   "cell_type": "code",
   "execution_count": 55,
   "metadata": {},
   "outputs": [],
   "source": [
    "train_losses_epochs = [pd.DataFrame(train_losses_Flair_epochs).values.flatten(),\n",
    "                        pd.DataFrame(train_losses_T1_epochs).values.flatten(),\n",
    "                        pd.DataFrame(train_losses_T1CE_epochs).values.flatten(),\n",
    "                        pd.DataFrame(train_losses_T2_epochs).values.flatten()]\n",
    "train_accs_epochs = [pd.DataFrame(train_accs_Flair_epochs).values.flatten(),\n",
    "                        pd.DataFrame(train_accs_T1_epochs).values.flatten(),\n",
    "                        pd.DataFrame(train_accs_T1CE_epochs).values.flatten(),\n",
    "                        pd.DataFrame(train_accs_T2_epochs).values.flatten()]\n",
    "valid_losses_epochs = [pd.DataFrame(valid_losses_Flair_epochs).values.flatten(),\n",
    "                        pd.DataFrame(valid_losses_T1_epochs).values.flatten(),\n",
    "                        pd.DataFrame(valid_losses_T1CE_epochs).values.flatten(),\n",
    "                        pd.DataFrame(valid_losses_T2_epochs).values.flatten()]\n",
    "valid_accs_epochs = [pd.DataFrame(valid_accs_Flair_epochs).values.flatten(),\n",
    "                        pd.DataFrame(valid_accs_T1_epochs).values.flatten(),\n",
    "                        pd.DataFrame(valid_accs_T1CE_epochs).values.flatten(),\n",
    "                        pd.DataFrame(valid_accs_T2_epochs).values.flatten()]"
   ]
  },
  {
   "cell_type": "code",
   "execution_count": 59,
   "metadata": {},
   "outputs": [],
   "source": [
    "pd.DataFrame(np.vstack(train_losses_epochs), index = ['Flair', 'T1', 'T1CE', 'T2']).to_csv('./results/CA_train_losses_epochs.csv', index=True)\n",
    "pd.DataFrame(np.vstack(train_accs_epochs), index = ['Flair', 'T1', 'T1CE', 'T2']).to_csv('./results/CA_train_accs_epochs.csv', index=True)\n",
    "pd.DataFrame(np.vstack(valid_losses_epochs), index = ['Flair', 'T1', 'T1CE', 'T2']).to_csv('./results/CA_valid_losses_epochs.csv', index=True)\n",
    "pd.DataFrame(np.vstack(valid_accs_epochs), index = ['Flair', 'T1', 'T1CE', 'T2']).to_csv('./results/CA_valid_accs_epochs.csv', index=True)"
   ]
  }
 ],
 "metadata": {
  "kernelspec": {
   "display_name": "Python 3",
   "language": "python",
   "name": "python3"
  },
  "language_info": {
   "codemirror_mode": {
    "name": "ipython",
    "version": 3
   },
   "file_extension": ".py",
   "mimetype": "text/x-python",
   "name": "python",
   "nbconvert_exporter": "python",
   "pygments_lexer": "ipython3",
   "version": "3.11.6"
  }
 },
 "nbformat": 4,
 "nbformat_minor": 2
}
