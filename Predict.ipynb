{
 "cells": [
  {
   "cell_type": "markdown",
   "metadata": {},
   "source": [
    "# Convlution Autoencoder\n",
    "- Prediction\n",
    "- Save image id and predicted crop size for each test data\n",
    "- Crop test images\n",
    "\n",
    "\n",
    "# U-Net\n",
    "\n",
    "- Apply any preprocessing for U-Net\n",
    "- Amend custom dataset for the second model\n"
   ]
  },
  {
   "cell_type": "markdown",
   "metadata": {},
   "source": []
  }
 ],
 "metadata": {
  "language_info": {
   "name": "python"
  }
 },
 "nbformat": 4,
 "nbformat_minor": 2
}
