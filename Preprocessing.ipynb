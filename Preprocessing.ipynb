{
 "cells": [
  {
   "cell_type": "markdown",
   "metadata": {},
   "source": [
    "# Convlution Autoencoder"
   ]
  },
  {
   "cell_type": "code",
   "execution_count": null,
   "metadata": {},
   "outputs": [],
   "source": [
    "import os, glob, cv2, numpy as np, nibabel as nib, matplotlib.pylab as plt\n",
    "from sklearn.model_selection import train_test_split"
   ]
  },
  {
   "cell_type": "code",
   "execution_count": null,
   "metadata": {},
   "outputs": [],
   "source": [
    "master_path = r'./BraTS/'\n",
    "folders = [folder for folder in os.listdir(os.path.join(master_path, 'BraTS2021_Training_Data')) if folder != '.DS_Store']\n",
    "\n",
    "if not os.path.exists(os.path.join(master_path, 'BraTS2021_Training_Data_2D')): # BraTS2021_Training_Data\n",
    "    os.makedirs(os.path.join(master_path, 'BraTS2021_Training_Data_2D'))\n",
    "    for folder in folders:\n",
    "        os.makedirs(os.path.join(master_path, 'BraTS2021_Training_Data_2D', folder))\n",
    "        for img_type in ['flair', 'seg', 't1', 't1ce', 't2']:\n",
    "            os.makedirs(os.path.join(master_path, 'BraTS2021_Training_Data_2D', folder, img_type))"
   ]
  },
  {
   "cell_type": "code",
   "execution_count": null,
   "metadata": {},
   "outputs": [],
   "source": [
    "import os, multiprocessing\n",
    "from preprocessing_utilities import convert\n",
    "if __name__ == \"__main__\":\n",
    "    pool = multiprocessing.Pool(processes=multiprocessing.cpu_count())  # Use all available CPU cores\n",
    "    pool.map(convert, folders)\n",
    "    pool.close()\n",
    "    pool.join()"
   ]
  }
 ],
 "metadata": {
  "language_info": {
   "name": "python"
  }
 },
 "nbformat": 4,
 "nbformat_minor": 2
}
