{
 "cells": [
  {
   "cell_type": "markdown",
   "metadata": {},
   "source": [
    "# Convlution Autoencoder"
   ]
  },
  {
   "cell_type": "code",
   "execution_count": 1,
   "metadata": {},
   "outputs": [],
   "source": [
    "import os, multiprocessing, glob, cv2, numpy as np, nibabel as nib, matplotlib.pylab as plt\n",
    "from sklearn.model_selection import train_test_split"
   ]
  },
  {
   "cell_type": "code",
   "execution_count": 2,
   "metadata": {},
   "outputs": [],
   "source": [
    "master_path = r'./BraTS/'\n",
    "folders = [folder for folder in os.listdir(os.path.join(master_path, 'BraTS2021_Training_Data')) if folder != '.DS_Store']"
   ]
  },
  {
   "cell_type": "code",
   "execution_count": 3,
   "metadata": {},
   "outputs": [],
   "source": [
    "os.makedirs(os.path.join(master_path, 'BraTS2021_Training_Data_2D'), exist_ok=True)\n",
    "for folder in folders:\n",
    "    os.makedirs(os.path.join(master_path, 'BraTS2021_Training_Data_2D', folder), exist_ok=True)\n",
    "    for img_type in ['flair', 'seg', 't1', 't1ce', 't2']:\n",
    "        os.makedirs(os.path.join(master_path, 'BraTS2021_Training_Data_2D', folder, img_type), exist_ok=True)"
   ]
  },
  {
   "cell_type": "code",
   "execution_count": null,
   "metadata": {},
   "outputs": [],
   "source": [
    "from preprocessing_utilities import convert\n",
    "if __name__ == \"__main__\":\n",
    "    pool = multiprocessing.Pool(processes=multiprocessing.cpu_count())  # Use all available CPU cores\n",
    "    pool.map(convert, folders)\n",
    "    pool.close()\n",
    "    pool.join()"
   ]
  },
  {
   "cell_type": "code",
   "execution_count": 4,
   "metadata": {},
   "outputs": [],
   "source": [
    "os.makedirs(os.path.join(master_path, 'BraTS2021_Training_Data_2D_Unet'), exist_ok=True)\n",
    "for dataset in ['train', 'valid', 'test']:\n",
    "    os.makedirs(os.path.join(master_path, 'BraTS2021_Training_Data_2D_Unet', dataset), exist_ok=True)\n",
    "    for img_type in ['flair', 'seg', 't1', 't1ce', 't2', 'cropped_area']:\n",
    "        os.makedirs(os.path.join(master_path, 'BraTS2021_Training_Data_2D_Unet', dataset, img_type), exist_ok=True)"
   ]
  },
  {
   "cell_type": "code",
   "execution_count": 5,
   "metadata": {},
   "outputs": [],
   "source": [
    "SEED = 44\n",
    "dataset_indices = list(range(len(folders)))\n",
    "train_indices, test_indices = train_test_split(dataset_indices, test_size=0.1, random_state=SEED)\n",
    "train_indices, val_indices = train_test_split(train_indices, test_size=0.22, random_state=SEED)"
   ]
  },
  {
   "cell_type": "code",
   "execution_count": 6,
   "metadata": {},
   "outputs": [],
   "source": [
    "train_folders = [folders[i] for i in train_indices]\n",
    "valid_folders = [folders[i] for i in val_indices]\n",
    "test_folders = [folders[i] for i in test_indices]"
   ]
  },
  {
   "cell_type": "code",
   "execution_count": 7,
   "metadata": {},
   "outputs": [],
   "source": [
    "from preprocessing_utilities import convert_Unet_train\n",
    "if __name__ == \"__main__\":\n",
    "    pool = multiprocessing.Pool(processes=multiprocessing.cpu_count())  # Use all available CPU cores\n",
    "    pool.map(convert_Unet_train, train_folders)\n",
    "    pool.close()\n",
    "    pool.join()"
   ]
  },
  {
   "cell_type": "code",
   "execution_count": 8,
   "metadata": {},
   "outputs": [],
   "source": [
    "from preprocessing_utilities import convert_Unet_valid\n",
    "if __name__ == \"__main__\":\n",
    "    pool = multiprocessing.Pool(processes=multiprocessing.cpu_count())  # Use all available CPU cores\n",
    "    pool.map(convert_Unet_valid, valid_folders)\n",
    "    pool.close()\n",
    "    pool.join()"
   ]
  },
  {
   "cell_type": "code",
   "execution_count": 9,
   "metadata": {},
   "outputs": [],
   "source": [
    "from preprocessing_utilities import convert_Unet_test\n",
    "if __name__ == \"__main__\":\n",
    "    pool = multiprocessing.Pool(processes=multiprocessing.cpu_count())  # Use all available CPU cores\n",
    "    pool.map(convert_Unet_test, test_folders)\n",
    "    pool.close()\n",
    "    pool.join()"
   ]
  },
  {
   "cell_type": "code",
   "execution_count": null,
   "metadata": {},
   "outputs": [],
   "source": []
  }
 ],
 "metadata": {
  "kernelspec": {
   "display_name": "Python 3",
   "language": "python",
   "name": "python3"
  },
  "language_info": {
   "codemirror_mode": {
    "name": "ipython",
    "version": 3
   },
   "file_extension": ".py",
   "mimetype": "text/x-python",
   "name": "python",
   "nbconvert_exporter": "python",
   "pygments_lexer": "ipython3",
   "version": "3.11.6"
  }
 },
 "nbformat": 4,
 "nbformat_minor": 2
}
