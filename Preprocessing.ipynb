{
 "cells": [
  {
   "cell_type": "markdown",
   "metadata": {},
   "source": [
    "# Convlution Autoencoder"
   ]
  },
  {
   "cell_type": "code",
   "execution_count": 2,
   "metadata": {},
   "outputs": [],
   "source": [
    "import os, multiprocessing, glob, cv2, numpy as np, nibabel as nib, matplotlib.pylab as plt\n",
    "from sklearn.model_selection import train_test_split"
   ]
  },
  {
   "cell_type": "code",
   "execution_count": 3,
   "metadata": {},
   "outputs": [],
   "source": [
    "master_path = r'./BraTS/'\n",
    "folders = [folder for folder in os.listdir(os.path.join(master_path, 'BraTS2021_Training_Data')) if folder != '.DS_Store']"
   ]
  },
  {
   "cell_type": "code",
   "execution_count": 3,
   "metadata": {},
   "outputs": [],
   "source": [
    "os.makedirs(os.path.join(master_path, 'BraTS2021_Training_Data_2D'), exist_ok=True)\n",
    "for folder in folders:\n",
    "    os.makedirs(os.path.join(master_path, 'BraTS2021_Training_Data_2D', folder), exist_ok=True)\n",
    "    for img_type in ['flair', 'seg', 't1', 't1ce', 't2']:\n",
    "        os.makedirs(os.path.join(master_path, 'BraTS2021_Training_Data_2D', folder, img_type), exist_ok=True)"
   ]
  },
  {
   "cell_type": "code",
   "execution_count": null,
   "metadata": {},
   "outputs": [],
   "source": [
    "from preprocessing_utilities import convert\n",
    "if __name__ == \"__main__\":\n",
    "    pool = multiprocessing.Pool(processes=multiprocessing.cpu_count())  # Use all available CPU cores\n",
    "    pool.map(convert, folders)\n",
    "    pool.close()\n",
    "    pool.join()"
   ]
  },
  {
   "cell_type": "code",
   "execution_count": 4,
   "metadata": {},
   "outputs": [],
   "source": [
    "os.makedirs(os.path.join(master_path, 'BraTS2021_Training_Data_2D_Unet'), exist_ok=True)\n",
    "for dataset in ['train', 'valid', 'test']:\n",
    "    os.makedirs(os.path.join(master_path, 'BraTS2021_Training_Data_2D_Unet', dataset), exist_ok=True)\n",
    "    for img_type in ['flair', 'seg', 't1', 't1ce', 't2', 'cropped_area']:\n",
    "        os.makedirs(os.path.join(master_path, 'BraTS2021_Training_Data_2D_Unet', dataset, img_type), exist_ok=True)"
   ]
  },
  {
   "cell_type": "code",
   "execution_count": 5,
   "metadata": {},
   "outputs": [],
   "source": [
    "SEED = 44\n",
    "dataset_indices = list(range(len(folders)))\n",
    "train_indices, test_indices = train_test_split(dataset_indices, test_size=0.1, random_state=SEED)\n",
    "train_indices, val_indices = train_test_split(train_indices, test_size=0.22, random_state=SEED)"
   ]
  },
  {
   "cell_type": "code",
   "execution_count": 6,
   "metadata": {},
   "outputs": [],
   "source": [
    "train_folders = [folders[i] for i in train_indices]\n",
    "valid_folders = [folders[i] for i in val_indices]\n",
    "test_folders = [folders[i] for i in test_indices]"
   ]
  },
  {
   "cell_type": "code",
   "execution_count": 7,
   "metadata": {},
   "outputs": [],
   "source": [
    "from preprocessing_utilities import convert_Unet_train\n",
    "if __name__ == \"__main__\":\n",
    "    pool = multiprocessing.Pool(processes=multiprocessing.cpu_count())  # Use all available CPU cores\n",
    "    pool.map(convert_Unet_train, train_folders)\n",
    "    pool.close()\n",
    "    pool.join()"
   ]
  },
  {
   "cell_type": "code",
   "execution_count": 8,
   "metadata": {},
   "outputs": [],
   "source": [
    "from preprocessing_utilities import convert_Unet_valid\n",
    "if __name__ == \"__main__\":\n",
    "    pool = multiprocessing.Pool(processes=multiprocessing.cpu_count())  # Use all available CPU cores\n",
    "    pool.map(convert_Unet_valid, valid_folders)\n",
    "    pool.close()\n",
    "    pool.join()"
   ]
  },
  {
   "cell_type": "code",
   "execution_count": 9,
   "metadata": {},
   "outputs": [],
   "source": [
    "from preprocessing_utilities import convert_Unet_test\n",
    "if __name__ == \"__main__\":\n",
    "    pool = multiprocessing.Pool(processes=multiprocessing.cpu_count())  # Use all available CPU cores\n",
    "    pool.map(convert_Unet_test, test_folders)\n",
    "    pool.close()\n",
    "    pool.join()"
   ]
  },
  {
   "cell_type": "markdown",
   "metadata": {},
   "source": [
    "# For testing"
   ]
  },
  {
   "cell_type": "code",
   "execution_count": 4,
   "metadata": {},
   "outputs": [],
   "source": [
    "# list of tumour\n",
    "pred_tumour = np.load(os.path.join('./results', f'CA_Flair_Area', 'list_tumour.npy')) \n",
    "# Reconstruct file names\n",
    "images = ['BraTS2021_' + pred_tumour[i][0] + '_flair_' + pred_tumour[i][1] + '.npy' for i in range(len(pred_tumour))]"
   ]
  },
  {
   "cell_type": "code",
   "execution_count": 5,
   "metadata": {},
   "outputs": [
    {
     "data": {
      "text/plain": [
       "['BraTS2021_01200_flair_6.npy',\n",
       " 'BraTS2021_01200_flair_7.npy',\n",
       " 'BraTS2021_01200_flair_8.npy',\n",
       " 'BraTS2021_01200_flair_9.npy',\n",
       " 'BraTS2021_01200_flair_11.npy',\n",
       " 'BraTS2021_01200_flair_98.npy',\n",
       " 'BraTS2021_01200_flair_99.npy',\n",
       " 'BraTS2021_01200_flair_100.npy',\n",
       " 'BraTS2021_01200_flair_101.npy',\n",
       " 'BraTS2021_01200_flair_102.npy']"
      ]
     },
     "execution_count": 5,
     "metadata": {},
     "output_type": "execute_result"
    }
   ],
   "source": [
    "images[:10]"
   ]
  },
  {
   "cell_type": "code",
   "execution_count": null,
   "metadata": {},
   "outputs": [],
   "source": [
    "from preprocessing_utilities import convert_Unet_test\n",
    "if __name__ == \"__main__\":\n",
    "    pool = multiprocessing.Pool(processes=multiprocessing.cpu_count())  # Use all available CPU cores\n",
    "    pool.map(convert_Unet_test, test_folders)\n",
    "    pool.close()\n",
    "    pool.join()"
   ]
  }
 ],
 "metadata": {
  "kernelspec": {
   "display_name": "Python 3",
   "language": "python",
   "name": "python3"
  },
  "language_info": {
   "codemirror_mode": {
    "name": "ipython",
    "version": 3
   },
   "file_extension": ".py",
   "mimetype": "text/x-python",
   "name": "python",
   "nbconvert_exporter": "python",
   "pygments_lexer": "ipython3",
   "version": "3.11.6"
  }
 },
 "nbformat": 4,
 "nbformat_minor": 2
}
