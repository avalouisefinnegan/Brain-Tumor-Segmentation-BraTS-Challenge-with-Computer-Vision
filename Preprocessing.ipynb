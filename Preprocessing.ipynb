{
 "cells": [
  {
   "cell_type": "markdown",
   "metadata": {},
   "source": [
    "# Convlution Autoencoder"
   ]
  },
  {
   "cell_type": "code",
   "execution_count": 2,
   "metadata": {},
   "outputs": [],
   "source": [
    "import os, multiprocessing, glob, cv2, numpy as np, nibabel as nib, matplotlib.pylab as plt\n",
    "from sklearn.model_selection import train_test_split"
   ]
  },
  {
   "cell_type": "code",
   "execution_count": 3,
   "metadata": {},
   "outputs": [],
   "source": [
    "master_path = r'./BraTS/'\n",
    "folders = [folder for folder in os.listdir(os.path.join(master_path, 'BraTS2021_Training_Data')) if folder != '.DS_Store']"
   ]
  },
  {
   "cell_type": "code",
   "execution_count": null,
   "metadata": {},
   "outputs": [],
   "source": [
    "os.makedirs(os.path.join(master_path, 'BraTS2021_Training_Data_2D'), exist_ok=True)\n",
    "for folder in folders:\n",
    "    os.makedirs(os.path.join(master_path, 'BraTS2021_Training_Data_2D', folder), exist_ok=True)\n",
    "    for img_type in ['flair', 'seg', 't1', 't1ce', 't2']:\n",
    "        os.makedirs(os.path.join(master_path, 'BraTS2021_Training_Data_2D', folder, img_type), exist_ok=True)"
   ]
  },
  {
   "cell_type": "code",
   "execution_count": null,
   "metadata": {},
   "outputs": [],
   "source": [
    "from preprocessing_utilities import convert\n",
    "if __name__ == \"__main__\":\n",
    "    pool = multiprocessing.Pool(processes=multiprocessing.cpu_count())  # Use all available CPU cores\n",
    "    pool.map(convert, folders)\n",
    "    pool.close()\n",
    "    pool.join()"
   ]
  },
  {
   "cell_type": "code",
   "execution_count": 4,
   "metadata": {},
   "outputs": [],
   "source": [
    "os.makedirs(os.path.join(master_path, 'BraTS2021_Training_Data_2D_Unet'), exist_ok=True)\n",
    "for img_type in ['flair', 'seg', 't1', 't1ce', 't2', 'cropped_area']:\n",
    "    os.makedirs(os.path.join(master_path, 'BraTS2021_Training_Data_2D_Unet', img_type), exist_ok=True)"
   ]
  },
  {
   "cell_type": "code",
   "execution_count": 11,
   "metadata": {},
   "outputs": [],
   "source": [
    "from preprocessing_utilities import convert_Unet\n",
    "if __name__ == \"__main__\":\n",
    "    pool = multiprocessing.Pool(processes=multiprocessing.cpu_count())  # Use all available CPU cores\n",
    "    pool.map(convert_Unet, folders)\n",
    "    pool.close()\n",
    "    pool.join()"
   ]
  }
 ],
 "metadata": {
  "kernelspec": {
   "display_name": "Python 3",
   "language": "python",
   "name": "python3"
  },
  "language_info": {
   "codemirror_mode": {
    "name": "ipython",
    "version": 3
   },
   "file_extension": ".py",
   "mimetype": "text/x-python",
   "name": "python",
   "nbconvert_exporter": "python",
   "pygments_lexer": "ipython3",
   "version": "3.11.6"
  }
 },
 "nbformat": 4,
 "nbformat_minor": 2
}
